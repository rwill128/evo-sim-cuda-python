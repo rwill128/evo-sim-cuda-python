{
 "cells": [
  {
   "cell_type": "code",
   "execution_count": 21,
   "outputs": [
    {
     "data": {
      "text/plain": "<Figure size 432x288 with 1 Axes>",
      "image/png": "[encoded data removed]"
     },
     "metadata": {
      "needs_background": "light"
     },
     "output_type": "display_data"
    },
    {
     "data": {
      "text/plain": "{'world_size': 10,\n 'global_creature_id_counter': 8,\n 'world_array': array([[0., 0., 0., 0., 0., 0., 0., 0., 0., 0.],\n        [0., 0., 0., 0., 0., 0., 0., 0., 0., 0.],\n        [0., 0., 0., 0., 0., 0., 4., 0., 0., 0.],\n        [0., 0., 0., 0., 7., 0., 0., 0., 0., 0.],\n        [0., 0., 6., 0., 0., 1., 3., 0., 0., 0.],\n        [0., 0., 0., 6., 0., 2., 5., 0., 0., 0.],\n        [0., 0., 0., 0., 0., 0., 0., 0., 0., 0.],\n        [0., 0., 0., 0., 0., 0., 0., 0., 0., 0.],\n        [0., 0., 0., 0., 0., 0., 0., 0., 0., 0.],\n        [0., 0., 0., 0., 0., 0., 0., 0., 0., 0.]]),\n 'carbon_dioxide_map': array([[5, 5, 5, 5, 5, 5, 5, 5, 5, 5],\n        [5, 5, 5, 5, 5, 5, 5, 5, 5, 5],\n        [5, 5, 5, 5, 5, 5, 4, 5, 5, 5],\n        [5, 5, 5, 5, 4, 5, 5, 5, 5, 5],\n        [5, 5, 3, 5, 5, 4, 4, 5, 5, 5],\n        [5, 5, 5, 5, 5, 4, 4, 5, 5, 5],\n        [5, 5, 5, 5, 5, 5, 5, 5, 5, 5],\n        [5, 5, 5, 5, 5, 5, 5, 5, 5, 5],\n        [5, 5, 5, 5, 5, 5, 5, 5, 5, 5],\n        [5, 5, 5, 5, 5, 5, 5, 5, 5, 5]]),\n 'plants': [array([[1., 4., 5., 0., 1.],\n         [1., 0., 0., 0., 0.]]),\n  array([[ 2.,  5.,  5.,  0.,  1.],\n         [ 1.,  0.,  0.,  0., -1.]]),\n  array([[ 3.,  4.,  6.,  0.,  1.],\n         [ 1.,  0.,  0., -1.,  0.]]),\n  array([[ 4.,  2.,  6.,  0.,  1.],\n         [ 1.,  0.,  0.,  0., -1.]]),\n  array([[ 5.,  5.,  6.,  0.,  1.],\n         [ 1.,  0.,  0.,  0., -1.]]),\n  array([[ 6.,  5.,  3.,  0.,  2.],\n         [ 1.,  0.,  0., -1., -1.]]),\n  array([[ 7.,  3.,  4.,  0.,  1.],\n         [ 1.,  0.,  0.,  0., -1.]])]}"
     },
     "execution_count": 21,
     "metadata": {},
     "output_type": "execute_result"
    }
   ],
   "source": [
    "%reload_ext autoreload\n",
    "%autoreload\n",
    "\n",
    "import numpy as np\n",
    "import creature_spawning.spawn_creature as sc\n",
    "import visualization.creature_rendering as creature_render\n",
    "import visualization.array_rendering as ar\n",
    "\n",
    "def photosynthesize(world_params):\n",
    "    for plant_id in world_params['world_array'][np.nonzero(world_params['world_array'])]:\n",
    "        world_params['plants'][int(plant_id) - 1][0][4] += 1\n",
    "        x, y = np.argwhere(world_params['world_array'] == plant_id)[0]\n",
    "        # TODO: Known bug, this will decrement carbon_dioxide in the wrong area\n",
    "        # for any creature that occupies more than one space. The only way to solve this\n",
    "        # That comes to mind is to have a plant_id and a segment or block id paired together\n",
    "        # Will have to look into this tomorrow\n",
    "        world_params['carbon_dioxide_map'][x][y] -= 1\n",
    "\n",
    "\n",
    "world_params = { 'world_size': 10,\n",
    "                 'global_creature_id_counter': 1 }\n",
    "\n",
    "world_params['world_array'] = np.zeros(shape=(world_params['world_size'], world_params['world_size']))\n",
    "\n",
    "world_params['carbon_dioxide_map'] = np.full(shape=(world_params['world_size'], world_params['world_size']),\n",
    "                             fill_value=5)\n",
    "\n",
    "sc.spawn_new_plants(world_params=world_params,\n",
    "                             num_plants=7)\n",
    "\n",
    "creature_render.place_creatures(world_params)\n",
    "\n",
    "photosynthesize(world_params)\n",
    "\n",
    "ar.render_array(world_params['world_array'])\n",
    "\n",
    "world_params"
   ],
   "metadata": {
    "collapsed": false,
    "pycharm": {
     "name": "#%%\n"
    }
   }
  }
 ],
 "metadata": {
  "kernelspec": {
   "display_name": "Python 3",
   "language": "python",
   "name": "python3"
  },
  "language_info": {
   "codemirror_mode": {
    "name": "ipython",
    "version": 2
   },
   "file_extension": ".py",
   "mimetype": "text/x-python",
   "name": "python",
   "nbconvert_exporter": "python",
   "pygments_lexer": "ipython2",
   "version": "2.7.6"
  }
 },
 "nbformat": 4,
 "nbformat_minor": 0
}