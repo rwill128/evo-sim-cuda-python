{
 "cells": [
  {
   "cell_type": "code",
   "execution_count": 3,
   "outputs": [
    {
     "name": "stdout",
     "output_type": "stream",
     "text": [
      "The autoreload extension is already loaded. To reload it, use:\n",
      "  %reload_ext autoreload\n"
     ]
    }
   ],
   "source": [
    "%load_ext autoreload\n",
    "\n",
    "%autoreload\n",
    "\n",
    "import numpy as np\n",
    "import visualization.array_rendering as ar\n",
    "import visualization.creature_rendering as cr\n",
    "import asset_generation.land_creation as lc\n",
    "import creature_spawning.spawn_creature as sc"
   ],
   "metadata": {
    "collapsed": false,
    "pycharm": {
     "name": "#%%\n"
    }
   }
  },
  {
   "cell_type": "code",
   "execution_count": 4,
   "outputs": [
    {
     "data": {
      "text/plain": "<Figure size 432x288 with 1 Axes>",
      "image/png": "[encoded data removed]"
     },
     "metadata": {
      "needs_background": "light"
     },
     "output_type": "display_data"
    },
    {
     "data": {
      "text/plain": "(array([[ 1.        ,  9.        , 10.        ,  3.70730671,  0.        ],\n        [ 0.1       ,  0.        ,  0.        , -1.        ,  0.        ]]),\n array([[ 1.        ,  9.        , 10.        ,  3.70730671,  0.        ],\n        [ 0.1       ,  9.        , 10.        ,  9.84420607, 10.53601877]]))"
     },
     "execution_count": 4,
     "metadata": {},
     "output_type": "execute_result"
    }
   ],
   "source": [
    "world_size = 15\n",
    "empty_template = np.zeros(shape=(world_size,world_size))\n",
    "\n",
    "creature2 = sc.generate_random_simple_creature(1)\n",
    "creature2[0,1] = np.random.randint(2,world_size-2)\n",
    "creature2[0,2] = np.random.randint(2,world_size-2)\n",
    "creature2[0,3] = np.random.random_sample() * np.pi * 2\n",
    "\n",
    "translated_creature = cr.translate_creature_segs_to_world(creature2)\n",
    "\n",
    "cr.place_creature(empty_template, translated_creature)\n",
    "ar.render_array(empty_template)\n",
    "\n",
    "(creature2, translated_creature)"
   ],
   "metadata": {
    "collapsed": false,
    "pycharm": {
     "name": "#%%\n"
    }
   }
  }
 ],
 "metadata": {
  "kernelspec": {
   "display_name": "Python 3",
   "language": "python",
   "name": "python3"
  },
  "language_info": {
   "codemirror_mode": {
    "name": "ipython",
    "version": 2
   },
   "file_extension": ".py",
   "mimetype": "text/x-python",
   "name": "python",
   "nbconvert_exporter": "python",
   "pygments_lexer": "ipython2",
   "version": "2.7.6"
  }
 },
 "nbformat": 4,
 "nbformat_minor": 0
}