{
 "cells": [
  {
   "cell_type": "code",
   "execution_count": 19,
   "outputs": [
    {
     "name": "stdout",
     "output_type": "stream",
     "text": [
      "The autoreload extension is already loaded. To reload it, use:\n",
      "  %reload_ext autoreload\n"
     ]
    }
   ],
   "source": [
    "%load_ext autoreload\n",
    "\n",
    "%autoreload\n",
    "\n",
    "import numpy as np\n",
    "import visualization.array_rendering as ar\n",
    "import visualization.creature_rendering as cr\n",
    "import asset_generation.land_creation as lc\n",
    "import creature_spawning.spawn_creature as sc"
   ],
   "metadata": {
    "collapsed": false,
    "pycharm": {
     "name": "#%%\n"
    }
   }
  },
  {
   "cell_type": "code",
   "execution_count": 20,
   "metadata": {
    "collapsed": true,
    "pycharm": {
     "name": "#%%\n"
    }
   },
   "outputs": [
    {
     "data": {
      "text/plain": "<Figure size 432x288 with 1 Axes>",
      "image/png": "[encoded data removed]"
     },
     "metadata": {
      "needs_background": "light"
     },
     "output_type": "display_data"
    }
   ],
   "source": [
    "test_line = [80.0,10.0,10.0,80.0]\n",
    "empty_template = np.zeros((100,100))\n",
    "creature_id = 1\n",
    "\n",
    "cr.detect_occluded_squares(empty_template, test_line, creature_id)\n",
    "\n",
    "ar.render_array(empty_template)"
   ]
  },
  {
   "cell_type": "code",
   "execution_count": 21,
   "outputs": [
    {
     "data": {
      "text/plain": "<Figure size 432x288 with 1 Axes>",
      "image/png": "[encoded data removed]"
     },
     "metadata": {
      "needs_background": "light"
     },
     "output_type": "display_data"
    }
   ],
   "source": [
    "\n",
    "empty_template = lc.create_template(100, 100)\n",
    "empty_template =  lc.add_smoothing_to_template(empty_template)\n",
    "land, water = lc.generate_land_and_water_from_template(empty_template, 0.5)\n",
    "entire_surface = lc.entire_surface(land, water)\n",
    "\n",
    "\n",
    "num_segments = 4\n",
    "creature_id = 0\n",
    "\n",
    "creature = np.zeros(shape=(num_segments + 1, 5))\n",
    "creature[0,0] = creature_id\n",
    "creature[1] = [.1, 10.0,10.0,90.0,90.0]\n",
    "creature[2] = [.2, 10.0,90.0,90.0,10.0]\n",
    "creature[3] = [.3, 80.0,10.0,10.0,80.0]\n",
    "creature[4] = [.4, 80.0,90.0,10.0,20.0]\n",
    "\n",
    "cr.place_creature(land, creature)\n",
    "\n",
    "ar.render_array(land)"
   ],
   "metadata": {
    "collapsed": false,
    "pycharm": {
     "name": "#%%\n"
    }
   }
  },
  {
   "cell_type": "code",
   "execution_count": 22,
   "outputs": [
    {
     "name": "stderr",
     "output_type": "stream",
     "text": [
      "C:\\Users\\Rick\\PycharmProjects\\evo-sim-cuda-python\\visualization\\creature_rendering.py:11: RuntimeWarning: invalid value encountered in double_scalars\n",
      "  slope = (y1 - y0) / (x1 - x0)\n",
      "C:\\Users\\Rick\\PycharmProjects\\evo-sim-cuda-python\\visualization\\creature_rendering.py:14: RuntimeWarning: divide by zero encountered in double_scalars\n",
      "  step_size = 1 / length_of_line\n"
     ]
    },
    {
     "data": {
      "text/plain": "<Figure size 432x288 with 1 Axes>",
      "image/png": "[encoded data removed]"
     },
     "metadata": {
      "needs_background": "light"
     },
     "output_type": "display_data"
    },
    {
     "data": {
      "text/plain": "(array([[ 1.        ,  8.        ,  7.        ,  4.44133906,  0.        ],\n        [ 0.1       ,  0.        ,  0.        , -1.        , -1.        ],\n        [ 0.1       , -1.        , -1.        , -1.        , -2.        ],\n        [ 0.1       , -1.        , -2.        , -1.        , -3.        ],\n        [ 0.1       , -1.        , -3.        , -1.        , -3.        ],\n        [ 0.1       , -1.        , -3.        , -2.        , -3.        ]]),\n array([[1.        , 8.        , 7.        , 4.44133906, 0.        ],\n        [0.1       , 8.        , 7.        , 7.30425285, 8.23123349],\n        [0.1       , 7.30425285, 8.23123349, 6.34076253, 8.49897666],\n        [0.1       , 6.34076253, 8.49897666, 5.37727222, 8.76671983],\n        [0.1       , 5.37727222, 8.76671983, 5.37727222, 8.76671983],\n        [0.1       , 5.37727222, 8.76671983, 5.64501539, 9.73021015]]))"
     },
     "execution_count": 22,
     "metadata": {},
     "output_type": "execute_result"
    }
   ],
   "source": [
    "world_size = 15\n",
    "empty_template = np.zeros(shape=(world_size,world_size))\n",
    "\n",
    "creature2 = sc.generate_random_simple_creature(5)\n",
    "creature2[0,1] = np.random.randint(2,world_size-2)\n",
    "creature2[0,2] = np.random.randint(2,world_size-2)\n",
    "creature2[0,3] = np.random.random_sample() * np.pi * 2\n",
    "\n",
    "translated_creature = cr.translate_creature_segs_to_world(creature2)\n",
    "\n",
    "cr.place_creature(empty_template, translated_creature)\n",
    "ar.render_array(empty_template)\n",
    "\n",
    "(creature2, translated_creature)"
   ],
   "metadata": {
    "collapsed": false,
    "pycharm": {
     "name": "#%%\n"
    }
   }
  }
 ],
 "metadata": {
  "kernelspec": {
   "display_name": "Python 3",
   "language": "python",
   "name": "python3"
  },
  "language_info": {
   "codemirror_mode": {
    "name": "ipython",
    "version": 2
   },
   "file_extension": ".py",
   "mimetype": "text/x-python",
   "name": "python",
   "nbconvert_exporter": "python",
   "pygments_lexer": "ipython2",
   "version": "2.7.6"
  }
 },
 "nbformat": 4,
 "nbformat_minor": 0
}