{
 "cells": [
  {
   "cell_type": "code",
   "execution_count": 16,
   "outputs": [],
   "source": [
    "%reload_ext autoreload\n",
    "%autoreload\n",
    "\n",
    "import numpy as np\n",
    "import creature_spawning.spawn_creature as sc\n",
    "import visualization.plant_rendering as pr\n",
    "import visualization.array_rendering as ar\n",
    "import simulation.gas_drift as gd\n",
    "import simulation.plant_simulation as ps\n",
    "\n",
    "world_params = { 'world_size': 10,\n",
    "             'global_creature_id_counter': int(1) }\n",
    "world_params['world_array'] = np.zeros(shape=(world_params['world_size'], world_params['world_size']), dtype=int)\n",
    "world_params['carbon_dioxide_map'] = np.full(shape=(world_params['world_size'], world_params['world_size']),\n",
    "                         fill_value=0)\n",
    "world_params['carbon_dioxide_map'][0][0] = 0\n",
    "sc.spawn_new_plants(world_params=world_params,\n",
    "                         num_plants=2)\n",
    "pr.place_plants(world_params)\n",
    "\n",
    "def run_sim_for_50_steps():\n",
    "\n",
    "    for i in range(100):\n",
    "        world_params['world_array'] = np.zeros(shape=(world_params['world_size'], world_params['world_size']), dtype=int)\n",
    "\n",
    "        pr.place_plants(world_params)\n",
    "        ps.photosynthesize(world_params)\n",
    "\n",
    "        world_params['carbon_dioxide_map'][int(world_params['world_size'] / 2)][int(world_params['world_size'] / 2)] += 1\n",
    "\n",
    "        gd.move_gases(world_params)\n",
    "        ps.grow_plants(world_params)\n",
    "\n",
    "        pr.place_plants(world_params)\n",
    "\n",
    "\n"
   ],
   "metadata": {
    "collapsed": false,
    "pycharm": {
     "name": "#%%\n"
    }
   }
  },
  {
   "cell_type": "code",
   "execution_count": 17,
   "outputs": [],
   "source": [
    "%reload_ext line_profiler\n",
    "\n",
    "%lprun -f run_sim_for_50_steps run_sim_for_50_steps()"
   ],
   "metadata": {
    "collapsed": false,
    "pycharm": {
     "name": "#%%\n"
    }
   }
  },
  {
   "cell_type": "code",
   "execution_count": 18,
   "outputs": [
    {
     "data": {
      "text/plain": "<Figure size 1440x1440 with 1 Axes>",
      "image/png": "[encoded data removed]"
     },
     "metadata": {
      "needs_background": "light"
     },
     "output_type": "display_data"
    },
    {
     "data": {
      "text/plain": "<Figure size 1440x1440 with 1 Axes>",
      "image/png": "[encoded data removed]"
     },
     "metadata": {
      "needs_background": "light"
     },
     "output_type": "display_data"
    },
    {
     "data": {
      "text/plain": "{'world_size': 10,\n 'global_creature_id_counter': 3,\n 'world_array': array([[0, 0, 0, 0, 0, 0, 0, 0, 0, 0],\n        [0, 0, 0, 0, 0, 0, 0, 0, 0, 0],\n        [0, 0, 0, 2, 0, 0, 0, 0, 0, 0],\n        [0, 0, 0, 0, 2, 0, 0, 0, 0, 0],\n        [0, 0, 0, 0, 0, 2, 1, 1, 0, 0],\n        [0, 0, 0, 0, 2, 2, 1, 1, 0, 0],\n        [0, 0, 0, 0, 0, 2, 2, 2, 0, 0],\n        [0, 0, 0, 0, 0, 0, 0, 0, 0, 0],\n        [0, 0, 0, 0, 0, 0, 0, 0, 0, 0],\n        [0, 0, 0, 0, 0, 0, 0, 0, 0, 0]]),\n 'carbon_dioxide_map': array([[1, 0, 0, 1, 0, 0, 0, 0, 0, 0],\n        [0, 0, 0, 0, 0, 0, 1, 0, 0, 0],\n        [0, 0, 0, 0, 0, 0, 0, 0, 0, 0],\n        [1, 0, 0, 0, 0, 0, 0, 0, 0, 0],\n        [0, 0, 0, 0, 0, 0, 0, 0, 0, 0],\n        [0, 0, 0, 0, 0, 0, 0, 0, 0, 0],\n        [0, 1, 0, 0, 0, 1, 0, 0, 1, 0],\n        [0, 0, 1, 0, 0, 0, 0, 0, 0, 0],\n        [1, 0, 0, 0, 0, 0, 0, 0, 1, 0],\n        [0, 0, 0, 1, 0, 0, 0, 0, 0, 1]]),\n 'plants': [array([[ 1.,  5.,  7.,  0., 16.],\n         [ 1.,  0.,  0.,  0.,  0.],\n         [ 1.,  0.,  0.,  0.,  0.],\n         [ 1.,  0.,  0.,  0.,  0.],\n         [ 1.,  0.,  0.,  0., -1.],\n         [ 1.,  0., -1.,  0., -1.],\n         [ 1.,  0.,  0.,  0., -1.],\n         [ 1.,  0.,  0.,  0., -1.],\n         [ 1.,  0.,  0., -1., -1.],\n         [ 1.,  0., -1.,  0., -2.],\n         [ 1.,  0.,  0.,  0.,  0.],\n         [ 1.,  0., -1.,  0., -1.],\n         [ 1.,  0.,  0.,  0.,  0.],\n         [ 1.,  0., -1., -1., -2.],\n         [ 1.,  0.,  0., -1.,  0.],\n         [ 1., -1.,  0., -1.,  0.],\n         [ 1.,  0., -1., -1., -1.],\n         [ 1.,  0., -1., -1., -2.]]),\n  array([[ 2.,  6.,  7.,  0., 10.],\n         [ 1.,  0.,  0.,  0., -1.],\n         [ 1.,  0., -1.,  0., -1.],\n         [ 1.,  0., -1.,  0., -2.],\n         [ 1.,  0., -1.,  0., -2.],\n         [ 1.,  0., -2.,  0., -2.],\n         [ 1.,  0., -2.,  0., -2.],\n         [ 1.,  0., -2., -1., -2.],\n         [ 1., -1., -2., -2., -2.],\n         [ 1.,  0., -1., -1., -1.],\n         [ 1., -2., -2., -3., -2.],\n         [ 1., -2., -2., -3., -3.],\n         [ 1.,  0., -2., -1., -2.],\n         [ 1., -3., -3., -4., -3.],\n         [ 1.,  0., -1.,  0., -2.],\n         [ 1.,  0., -2., -1., -3.],\n         [ 1., -2., -2., -2., -2.],\n         [ 1., -1., -2., -1., -2.],\n         [ 1.,  0., -2., -1., -2.],\n         [ 1., -3., -3., -4., -4.],\n         [ 1., -1., -2., -1., -2.],\n         [ 1., -2., -2., -3., -2.],\n         [ 1.,  0., -2.,  0., -3.],\n         [ 1.,  0., -2.,  0., -2.]])]}"
     },
     "execution_count": 18,
     "metadata": {},
     "output_type": "execute_result"
    }
   ],
   "source": [
    "# ar.render_array(world_params['world_array'], 'Plants')\n",
    "# ar.render_array(world_params['carbon_dioxide_map'], 'Carbon Dioxide')\n",
    "\n",
    "ar.render_array(world_params['world_array'], 'Plants')\n",
    "ar.render_array(world_params['carbon_dioxide_map'], 'Carbon Dioxide')\n",
    "\n",
    "\n",
    "world_params"
   ],
   "metadata": {
    "collapsed": false,
    "pycharm": {
     "name": "#%%\n"
    }
   }
  }
 ],
 "metadata": {
  "kernelspec": {
   "display_name": "Python 3",
   "language": "python",
   "name": "python3"
  },
  "language_info": {
   "codemirror_mode": {
    "name": "ipython",
    "version": 2
   },
   "file_extension": ".py",
   "mimetype": "text/x-python",
   "name": "python",
   "nbconvert_exporter": "python",
   "pygments_lexer": "ipython2",
   "version": "2.7.6"
  }
 },
 "nbformat": 4,
 "nbformat_minor": 0
}