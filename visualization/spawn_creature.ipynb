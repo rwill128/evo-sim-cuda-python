{
 "cells": [
  {
   "cell_type": "code",
   "execution_count": 183,
   "outputs": [],
   "source": [
    "import numpy as np\n",
    "import visualization.land_rendering as lr\n",
    "import visualization.creature_rendering as cr"
   ],
   "metadata": {
    "collapsed": false,
    "pycharm": {
     "name": "#%%\n"
    }
   }
  },
  {
   "cell_type": "code",
   "execution_count": 184,
   "metadata": {
    "collapsed": true,
    "pycharm": {
     "name": "#%%\n"
    }
   },
   "outputs": [
    {
     "data": {
      "text/plain": "<Figure size 432x288 with 1 Axes>",
      "image/png": "[encoded data removed]"
     },
     "metadata": {
      "needs_background": "light"
     },
     "output_type": "display_data"
    }
   ],
   "source": [
    "test_line = [80.0,10.0,10.0,80.0]\n",
    "empty_template = np.zeros((100,100))\n",
    "creature_id = 5\n",
    "\n",
    "cr.detect_occluded_squares(empty_template, test_line, creature_id)\n",
    "\n",
    "lr.render_array(empty_template)"
   ]
  },
  {
   "cell_type": "code",
   "execution_count": 185,
   "outputs": [
    {
     "data": {
      "text/plain": "<Figure size 432x288 with 1 Axes>",
      "image/png": "[encoded data removed]"
     },
     "metadata": {
      "needs_background": "light"
     },
     "output_type": "display_data"
    }
   ],
   "source": [
    "\n",
    "empty_template = np.zeros((100,100))\n",
    "num_segments = 4\n",
    "creature_id = 5\n",
    "\n",
    "creature = np.ndarray(shape=(num_segments + 1, 5))\n",
    "creature[0,0] = creature_id\n",
    "creature[1] = [.1, 10.0,10.0,90.0,90.0]\n",
    "creature[2] = [.2, 10.0,90.0,90.0,10.0]\n",
    "creature[3] = [.3, 80.0,10.0,10.0,80.0]\n",
    "creature[4] = [.4, 80.0,90.0,10.0,20.0]\n",
    "\n",
    "cr.place_creature(empty_template, creature)\n",
    "\n",
    "lr.render_array(empty_template)"
   ],
   "metadata": {
    "collapsed": false,
    "pycharm": {
     "name": "#%%\n"
    }
   }
  }
 ],
 "metadata": {
  "kernelspec": {
   "display_name": "Python 3",
   "language": "python",
   "name": "python3"
  },
  "language_info": {
   "codemirror_mode": {
    "name": "ipython",
    "version": 2
   },
   "file_extension": ".py",
   "mimetype": "text/x-python",
   "name": "python",
   "nbconvert_exporter": "python",
   "pygments_lexer": "ipython2",
   "version": "2.7.6"
  }
 },
 "nbformat": 4,
 "nbformat_minor": 0
}