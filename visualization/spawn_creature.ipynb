{
 "cells": [
  {
   "cell_type": "code",
   "execution_count": 1,
   "outputs": [],
   "source": [
    "import numpy as np"
   ],
   "metadata": {
    "collapsed": false,
    "pycharm": {
     "name": "#%%\n"
    }
   }
  },
  {
   "cell_type": "code",
   "execution_count": 2,
   "metadata": {
    "collapsed": true,
    "pycharm": {
     "name": "#%%\n"
    }
   },
   "outputs": [],
   "source": [
    "def detect_occluded_squares(g, l: np.ndarray, cid):\n",
    "    x0, y0, x1, y1 = l\n",
    "\n",
    "    g[int(np.round(x0)), int(np.round(y0))] = cid\n",
    "\n",
    "    slope = (y1 - y0) / (x1 - x0)\n",
    "\n",
    "    length_of_line = np.linalg.norm((y1 - y0, x1 - x0))\n",
    "    step_size = 1 / length_of_line\n",
    "\n",
    "    i = step_size\n",
    "    j = step_size * slope\n",
    "\n",
    "    while x0 + i <= x1 and y0 + j <= y1:\n",
    "        g[int(np.round(x0 + i)), int(np.round(y0 + j))] = cid\n",
    "        i += step_size\n",
    "        j += step_size * slope\n",
    "\n",
    "test_line = [0.0,1.0,3.0,9.0]\n",
    "empty_template = np.zeros((10,10))\n",
    "creature_id = 5\n",
    "\n",
    "detect_occluded_squares(empty_template, test_line, creature_id)"
   ]
  },
  {
   "cell_type": "code",
   "execution_count": 3,
   "outputs": [
    {
     "data": {
      "text/plain": "array([[0. , 0. , 0. , 0. , 0. , 0. , 0. , 0. , 0. , 0. ],\n       [0. , 5.1, 5.2, 0. , 0. , 0. , 0. , 0. , 0. , 0. ],\n       [0. , 0. , 5.2, 5.1, 0. , 0. , 0. , 0. , 0. , 0. ],\n       [0. , 0. , 5.2, 5.1, 5.1, 0. , 0. , 0. , 0. , 0. ],\n       [0. , 0. , 5.2, 0. , 5.1, 5.1, 0. , 0. , 0. , 0. ],\n       [0. , 0. , 0. , 5.2, 0. , 5.1, 5.1, 0. , 0. , 0. ],\n       [0. , 0. , 0. , 5.2, 0. , 0. , 5.1, 5.1, 0. , 0. ],\n       [0. , 0. , 0. , 5.2, 0. , 0. , 0. , 5.1, 5.1, 0. ],\n       [0. , 0. , 0. , 5.2, 0. , 0. , 0. , 0. , 0. , 5.1],\n       [0. , 0. , 0. , 0. , 0. , 0. , 0. , 0. , 0. , 0. ]])"
     },
     "execution_count": 3,
     "metadata": {},
     "output_type": "execute_result"
    }
   ],
   "source": [
    "def render_creature(t, c):\n",
    "    c_id = c[0,0]\n",
    "    for l in c[1:]:\n",
    "        segment_id = l[0]\n",
    "        detect_occluded_squares(t, l[1:], c_id + segment_id)\n",
    "\n",
    "\n",
    "empty_template = np.zeros((10,10))\n",
    "num_segments = 3\n",
    "creature_id = 5\n",
    "creature = np.ndarray((num_segments, 5))\n",
    "creature[0,0] = creature_id\n",
    "creature[1] = [.1, 1.0,1.0,8.0,9.0]\n",
    "creature[2] = [.2, 1.0,2.0,8.0,3.0]\n",
    "render_creature(empty_template, creature)\n",
    "empty_template"
   ],
   "metadata": {
    "collapsed": false,
    "pycharm": {
     "name": "#%%\n"
    }
   }
  }
 ],
 "metadata": {
  "kernelspec": {
   "display_name": "Python 3",
   "language": "python",
   "name": "python3"
  },
  "language_info": {
   "codemirror_mode": {
    "name": "ipython",
    "version": 2
   },
   "file_extension": ".py",
   "mimetype": "text/x-python",
   "name": "python",
   "nbconvert_exporter": "python",
   "pygments_lexer": "ipython2",
   "version": "2.7.6"
  }
 },
 "nbformat": 4,
 "nbformat_minor": 0
}