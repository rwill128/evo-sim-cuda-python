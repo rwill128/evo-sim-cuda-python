{
 "cells": [
  {
   "cell_type": "code",
   "execution_count": 30,
   "outputs": [
    {
     "name": "stderr",
     "output_type": "stream",
     "text": [
      "C:\\Users\\Rick\\PycharmProjects\\pythonProject1\\visualization\\creature_rendering.py:11: RuntimeWarning: invalid value encountered in double_scalars\n",
      "  slope = (y1 - y0) / (x1 - x0)\n",
      "C:\\Users\\Rick\\PycharmProjects\\pythonProject1\\visualization\\creature_rendering.py:14: RuntimeWarning: divide by zero encountered in double_scalars\n",
      "  step_size = 1 / length_of_line\n"
     ]
    },
    {
     "data": {
      "text/plain": "<Figure size 432x288 with 1 Axes>",
      "image/png": "[encoded data removed]"
     },
     "metadata": {
      "needs_background": "light"
     },
     "output_type": "display_data"
    }
   ],
   "source": [
    "%reload_ext autoreload\n",
    "\n",
    "%autoreload\n",
    "\n",
    "import numpy as np\n",
    "import visualization.array_rendering as ar\n",
    "import visualization.creature_rendering as cr\n",
    "import creature_spawning.spawn_creature as sc\n",
    "\n",
    "\n",
    "\n",
    "world_size = 30\n",
    "empty_template = np.zeros(shape=(world_size,world_size))\n",
    "\n",
    "\n",
    "def spawn_new_plants(num_plants: int = 1):\n",
    "\n",
    "    new_plants = []\n",
    "\n",
    "    for i in range(num_plants):\n",
    "        plant = sc.generate_random_simple_creature(1)\n",
    "        plant[0,1] = np.random.randint(2,world_size-2)\n",
    "        plant[0,2] = np.random.randint(2,world_size-2)\n",
    "        plant[0,3] = np.random.random_sample() * np.pi * 2\n",
    "        new_plants.append(plant)\n",
    "\n",
    "    return new_plants\n",
    "\n",
    "def draw_creatures(creature_list):\n",
    "    for creature in creature_list:\n",
    "        translated_creature = cr.translate_creature_segs_to_world(creature)\n",
    "        cr.place_creature(empty_template, translated_creature)\n",
    "    ar.render_array(empty_template)\n",
    "\n",
    "plants = spawn_new_plants(3)\n",
    "draw_creatures(plants)"
   ],
   "metadata": {
    "collapsed": false,
    "pycharm": {
     "name": "#%%\n"
    }
   }
  }
 ],
 "metadata": {
  "kernelspec": {
   "display_name": "Python 3",
   "language": "python",
   "name": "python3"
  },
  "language_info": {
   "codemirror_mode": {
    "name": "ipython",
    "version": 2
   },
   "file_extension": ".py",
   "mimetype": "text/x-python",
   "name": "python",
   "nbconvert_exporter": "python",
   "pygments_lexer": "ipython2",
   "version": "2.7.6"
  }
 },
 "nbformat": 4,
 "nbformat_minor": 0
}