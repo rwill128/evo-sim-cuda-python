{
 "cells": [
  {
   "cell_type": "code",
   "execution_count": 123,
   "outputs": [
    {
     "name": "stdout",
     "output_type": "stream",
     "text": [
      "The autoreload extension is already loaded. To reload it, use:\n",
      "  %reload_ext autoreload\n"
     ]
    }
   ],
   "source": [
    "%load_ext autoreload\n",
    "\n",
    "%autoreload\n",
    "\n",
    "import numpy as np\n",
    "import visualization.array_rendering as ar\n",
    "import visualization.creature_rendering as cr\n",
    "import asset_generation.land_creation as lc"
   ],
   "metadata": {
    "collapsed": false,
    "pycharm": {
     "name": "#%%\n"
    }
   }
  },
  {
   "cell_type": "code",
   "execution_count": 124,
   "metadata": {
    "collapsed": true,
    "pycharm": {
     "name": "#%%\n"
    }
   },
   "outputs": [
    {
     "data": {
      "text/plain": "<Figure size 432x288 with 1 Axes>",
      "image/png": "[encoded data removed]"
     },
     "metadata": {
      "needs_background": "light"
     },
     "output_type": "display_data"
    }
   ],
   "source": [
    "test_line = [80.0,10.0,10.0,80.0]\n",
    "empty_template = np.zeros((100,100))\n",
    "creature_id = 1\n",
    "\n",
    "cr.detect_occluded_squares(empty_template, test_line, creature_id)\n",
    "\n",
    "ar.render_array(empty_template)"
   ]
  },
  {
   "cell_type": "code",
   "execution_count": 125,
   "outputs": [
    {
     "data": {
      "text/plain": "<Figure size 432x288 with 1 Axes>",
      "image/png": "[encoded data removed]"
     },
     "metadata": {
      "needs_background": "light"
     },
     "output_type": "display_data"
    }
   ],
   "source": [
    "\n",
    "empty_template = lc.create_template(100, 100)\n",
    "empty_template =  lc.add_smoothing_to_template(empty_template)\n",
    "land, water = lc.generate_land_and_water_from_template(empty_template, 0.5)\n",
    "entire_surface = lc.entire_surface(land, water)\n",
    "\n",
    "\n",
    "num_segments = 4\n",
    "creature_id = 0\n",
    "\n",
    "creature = np.zeros(shape=(num_segments + 1, 5))\n",
    "creature[0,0] = creature_id\n",
    "creature[1] = [.1, 10.0,10.0,90.0,90.0]\n",
    "creature[2] = [.2, 10.0,90.0,90.0,10.0]\n",
    "creature[3] = [.3, 80.0,10.0,10.0,80.0]\n",
    "creature[4] = [.4, 80.0,90.0,10.0,20.0]\n",
    "\n",
    "cr.place_creature(land, creature)\n",
    "\n",
    "ar.render_array(land)"
   ],
   "metadata": {
    "collapsed": false,
    "pycharm": {
     "name": "#%%\n"
    }
   }
  },
  {
   "cell_type": "code",
   "execution_count": 126,
   "outputs": [],
   "source": [
    "def generate_random_simple_creature():\n",
    "\n",
    "    c_id = 0\n",
    "    num_segs = 3\n",
    "\n",
    "    # Top row for info, other rows for segments\n",
    "    sc = np.zeros(shape=(num_segs + 1, 5))\n",
    "\n",
    "    # Generates an array that looks like this:\n",
    "    #   c_id x_t  y_t  theta\n",
    "    # [[ 0.,  0.,  0.,  0.,  0.],\n",
    "    #    [ 0.,  0.,  0., -1.,  0.]]\n",
    "\n",
    "    # Assign Id\n",
    "    sc[0,0] = c_id\n",
    "    sc[1] = [0.0, 0.0, 0.0, float(np.random.randint(-1, 1)), float(np.random.randint(-1, 1))]\n",
    "    sc[2] = [0.0, sc[1,3], sc[1,4], sc[1,3] + float(np.random.randint(-1, 1)), sc[1,4] + float(np.random.randint(-1, 1))]\n",
    "    sc[3] = [0.0, sc[2,3], sc[2,4], sc[2,3] + float(np.random.randint(-1, 1)), sc[2,4] + float(np.random.randint(-1, 1))]\n",
    "\n",
    "    return sc\n",
    "\n",
    "creature = generate_random_simple_creature()"
   ],
   "metadata": {
    "collapsed": false,
    "pycharm": {
     "name": "#%%\n"
    }
   }
  },
  {
   "cell_type": "code",
   "execution_count": 127,
   "outputs": [
    {
     "data": {
      "text/plain": "array([[ 0., 50., 30.,  0.,  0.],\n       [ 0., 50., 30., 30., 30.],\n       [ 0., 50., 30., 30., 30.],\n       [ 0., 50., 30., 29., 29.]])"
     },
     "execution_count": 127,
     "metadata": {},
     "output_type": "execute_result"
    }
   ],
   "source": [
    "def translate_creature_segs_to_world(c: np.ndarray):\n",
    "\n",
    "    translated_c = c.copy()\n",
    "    x_translation = c[0,1]\n",
    "    y_translation = c[0,2]\n",
    "\n",
    "    for line in translated_c[1:]:\n",
    "        line[1], line[3] = line[1] + x_translation, line[3] + y_translation\n",
    "        line[2], line[4] = line[2] + y_translation, line[4] + y_translation\n",
    "\n",
    "    return translated_c\n",
    "\n",
    "creature2 = generate_random_simple_creature()\n",
    "creature2[0,1] = 50\n",
    "creature2[0,2] = 30\n",
    "\n",
    "translated_creature = translate_creature_segs_to_world(creature2)\n",
    "\n",
    "translated_creature\n"
   ],
   "metadata": {
    "collapsed": false,
    "pycharm": {
     "name": "#%%\n"
    }
   }
  },
  {
   "cell_type": "code",
   "execution_count": 128,
   "outputs": [
    {
     "data": {
      "text/plain": "array([[-4,  4,  4,  0],\n       [-2,  1, -3, -5],\n       [ 1, -3,  1,  3],\n       [ 3,  4, -3, -3]])"
     },
     "execution_count": 128,
     "metadata": {},
     "output_type": "execute_result"
    }
   ],
   "source": [
    "matrix = np.random.randint(-5, 5, (4,4))\n",
    "matrix"
   ],
   "metadata": {
    "collapsed": false,
    "pycharm": {
     "name": "#%%\n"
    }
   }
  },
  {
   "cell_type": "code",
   "execution_count": 129,
   "outputs": [
    {
     "data": {
      "text/plain": "array([[-5.],\n       [ 1.]])"
     },
     "execution_count": 129,
     "metadata": {},
     "output_type": "execute_result"
    }
   ],
   "source": [
    "def rotate_vector(x, y, t):\n",
    "    rot_mat = np.zeros(shape=(2,2))\n",
    "    vector = np.zeros(shape=(1,2))\n",
    "    rot_mat = [[np.cos(t), -np.sin(t)],\n",
    "                 [np.sin(t), np.cos(t)]]\n",
    "    vector = [[x],[y]]\n",
    "    rotated_vector = np.matmul(rot_mat, vector)\n",
    "    return rotated_vector\n",
    "\n",
    "theta = np.pi/2\n",
    "x = 1\n",
    "y = 5\n",
    "rotate_vector(x, y, theta)"
   ],
   "metadata": {
    "collapsed": false,
    "pycharm": {
     "name": "#%%\n"
    }
   }
  }
 ],
 "metadata": {
  "kernelspec": {
   "display_name": "Python 3",
   "language": "python",
   "name": "python3"
  },
  "language_info": {
   "codemirror_mode": {
    "name": "ipython",
    "version": 2
   },
   "file_extension": ".py",
   "mimetype": "text/x-python",
   "name": "python",
   "nbconvert_exporter": "python",
   "pygments_lexer": "ipython2",
   "version": "2.7.6"
  }
 },
 "nbformat": 4,
 "nbformat_minor": 0
}