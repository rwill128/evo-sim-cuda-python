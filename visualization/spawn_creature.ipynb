{
 "cells": [
  {
   "cell_type": "code",
   "execution_count": 2,
   "outputs": [
    {
     "name": "stderr",
     "output_type": "stream",
     "text": [
      "C:\\Users\\rwilliams\\PycharmProjects\\evo-sim-cuda-python\\visualization\\creature_rendering.py:13: RuntimeWarning: divide by zero encountered in double_scalars\n",
      "  slope = (y1 - y0) / (x1 - x0)\n",
      "C:\\Users\\rwilliams\\PycharmProjects\\evo-sim-cuda-python\\visualization\\creature_rendering.py:13: RuntimeWarning: invalid value encountered in double_scalars\n",
      "  slope = (y1 - y0) / (x1 - x0)\n",
      "C:\\Users\\rwilliams\\PycharmProjects\\evo-sim-cuda-python\\visualization\\creature_rendering.py:16: RuntimeWarning: divide by zero encountered in double_scalars\n",
      "  step_size = 1 / length_of_line\n"
     ]
    },
    {
     "data": {
      "text/plain": "<Figure size 432x288 with 1 Axes>",
      "image/png": "[encoded data removed]"
     },
     "metadata": {
      "needs_background": "light"
     },
     "output_type": "display_data"
    },
    {
     "data": {
      "text/plain": "<Figure size 432x288 with 1 Axes>",
      "image/png": "[encoded data removed]"
     },
     "metadata": {
      "needs_background": "light"
     },
     "output_type": "display_data"
    },
    {
     "data": {
      "text/plain": "<Figure size 432x288 with 1 Axes>",
      "image/png": "[encoded data removed]"
     },
     "metadata": {
      "needs_background": "light"
     },
     "output_type": "display_data"
    },
    {
     "data": {
      "text/plain": "<Figure size 432x288 with 1 Axes>",
      "image/png": "[encoded data removed]"
     },
     "metadata": {
      "needs_background": "light"
     },
     "output_type": "display_data"
    },
    {
     "data": {
      "text/plain": "{'world_size': 5,\n 'global_creature_id_counter': 2,\n 'world_array': array([[1, 0, 0, 0, 0],\n        [0, 1, 0, 0, 0],\n        [1, 1, 1, 0, 0],\n        [0, 0, 0, 0, 0],\n        [0, 0, 0, 0, 0]]),\n 'carbon_dioxide_map': array([[0, 0, 0, 0, 0],\n        [0, 0, 0, 0, 0],\n        [0, 0, 0, 0, 0],\n        [0, 0, 0, 0, 0],\n        [0, 0, 0, 0, 0]]),\n 'plants': [array([[ 1.,  2.,  2.,  0., 10.],\n         [ 1.,  0.,  0.,  0., -1.],\n         [ 0.,  0., -1.,  0., -1.],\n         [ 0.,  0., -1., -1., -1.],\n         [ 0.,  0., -1., -1., -1.],\n         [ 0.,  0., -1.,  0., -1.],\n         [ 0., -1., -1., -2., -2.],\n         [ 0.,  0., -1.,  0., -2.],\n         [ 0.,  0., -1., -1., -1.],\n         [ 0.,  0., -2.,  0., -3.],\n         [ 0.,  0., -1.,  0., -2.],\n         [ 0.,  0., -1., -1., -1.]])]}"
     },
     "execution_count": 2,
     "metadata": {},
     "output_type": "execute_result"
    }
   ],
   "source": [
    "%reload_ext autoreload\n",
    "%autoreload\n",
    "\n",
    "import numpy as np\n",
    "import creature_spawning.spawn_creature as sc\n",
    "import visualization.creature_rendering as creature_render\n",
    "import visualization.array_rendering as ar\n",
    "import simulation.gas_drift as gd\n",
    "import simulation.plant_simulation as ps\n",
    "\n",
    "world_params = { 'world_size': 5,\n",
    "                 'global_creature_id_counter': int(1) }\n",
    "\n",
    "world_params['world_array'] = np.zeros(shape=(world_params['world_size'], world_params['world_size']), dtype=int)\n",
    "\n",
    "world_params['carbon_dioxide_map'] = np.full(shape=(world_params['world_size'], world_params['world_size']),\n",
    "                             fill_value=5)\n",
    "world_params['carbon_dioxide_map'][0][0] = 0\n",
    "\n",
    "sc.spawn_new_plants(world_params=world_params,\n",
    "                             num_plants=1)\n",
    "\n",
    "creature_render.place_creatures(world_params)\n",
    "\n",
    "ar.render_array(world_params['world_array'])\n",
    "ar.render_array(world_params['carbon_dioxide_map'])\n",
    "\n",
    "for i in range(500):\n",
    "    ps.photosynthesize(world_params)\n",
    "    gd.move_gases(world_params)\n",
    "    ps.grow_plants(world_params)\n",
    "\n",
    "creature_render.place_creatures(world_params)\n",
    "\n",
    "ar.render_array(world_params['world_array'])\n",
    "ar.render_array(world_params['carbon_dioxide_map'])\n",
    "\n",
    "world_params"
   ],
   "metadata": {
    "collapsed": false,
    "pycharm": {
     "name": "#%%\n"
    }
   }
  },
  {
   "cell_type": "code",
   "execution_count": 2,
   "outputs": [],
   "source": [],
   "metadata": {
    "collapsed": false,
    "pycharm": {
     "name": "#%%\n"
    }
   }
  }
 ],
 "metadata": {
  "kernelspec": {
   "display_name": "Python 3",
   "language": "python",
   "name": "python3"
  },
  "language_info": {
   "codemirror_mode": {
    "name": "ipython",
    "version": 2
   },
   "file_extension": ".py",
   "mimetype": "text/x-python",
   "name": "python",
   "nbconvert_exporter": "python",
   "pygments_lexer": "ipython2",
   "version": "2.7.6"
  }
 },
 "nbformat": 4,
 "nbformat_minor": 0
}