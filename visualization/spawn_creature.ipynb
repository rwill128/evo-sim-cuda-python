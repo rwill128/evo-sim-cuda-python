{
 "cells": [
  {
   "cell_type": "code",
   "execution_count": 303,
   "outputs": [
    {
     "name": "stdout",
     "output_type": "stream",
     "text": [
      "The autoreload extension is already loaded. To reload it, use:\n",
      "  %reload_ext autoreload\n"
     ]
    }
   ],
   "source": [
    "%load_ext autoreload\n",
    "\n",
    "%autoreload\n",
    "\n",
    "import numpy as np\n",
    "import visualization.array_rendering as ar\n",
    "import visualization.creature_rendering as cr\n",
    "import asset_generation.land_creation as lc"
   ],
   "metadata": {
    "collapsed": false,
    "pycharm": {
     "name": "#%%\n"
    }
   }
  },
  {
   "cell_type": "code",
   "execution_count": 304,
   "metadata": {
    "collapsed": true,
    "pycharm": {
     "name": "#%%\n"
    }
   },
   "outputs": [
    {
     "data": {
      "text/plain": "<Figure size 432x288 with 1 Axes>",
      "image/png": "[encoded data removed]"
     },
     "metadata": {
      "needs_background": "light"
     },
     "output_type": "display_data"
    }
   ],
   "source": [
    "test_line = [80.0,10.0,10.0,80.0]\n",
    "empty_template = np.zeros((100,100))\n",
    "creature_id = 1\n",
    "\n",
    "cr.detect_occluded_squares(empty_template, test_line, creature_id)\n",
    "\n",
    "ar.render_array(empty_template)"
   ]
  },
  {
   "cell_type": "code",
   "execution_count": 305,
   "outputs": [
    {
     "data": {
      "text/plain": "<Figure size 432x288 with 1 Axes>",
      "image/png": "[encoded data removed]"
     },
     "metadata": {
      "needs_background": "light"
     },
     "output_type": "display_data"
    }
   ],
   "source": [
    "\n",
    "empty_template = lc.create_template(100, 100)\n",
    "empty_template =  lc.add_smoothing_to_template(empty_template)\n",
    "land, water = lc.generate_land_and_water_from_template(empty_template, 0.5)\n",
    "entire_surface = lc.entire_surface(land, water)\n",
    "\n",
    "\n",
    "num_segments = 4\n",
    "creature_id = 0\n",
    "\n",
    "creature = np.zeros(shape=(num_segments + 1, 5))\n",
    "creature[0,0] = creature_id\n",
    "creature[1] = [.1, 10.0,10.0,90.0,90.0]\n",
    "creature[2] = [.2, 10.0,90.0,90.0,10.0]\n",
    "creature[3] = [.3, 80.0,10.0,10.0,80.0]\n",
    "creature[4] = [.4, 80.0,90.0,10.0,20.0]\n",
    "\n",
    "cr.place_creature(land, creature)\n",
    "\n",
    "ar.render_array(land)"
   ],
   "metadata": {
    "collapsed": false,
    "pycharm": {
     "name": "#%%\n"
    }
   }
  },
  {
   "cell_type": "code",
   "execution_count": 306,
   "outputs": [],
   "source": [
    "def generate_random_simple_creature():\n",
    "\n",
    "    c_id = 1\n",
    "    num_segs = 1\n",
    "\n",
    "    # Top row for info, other rows for segments\n",
    "    sc = np.zeros(shape=(num_segs + 1, 5))\n",
    "\n",
    "    # Generates an array that looks like this:\n",
    "    #   c_id x_t  y_t  theta\n",
    "    # [[ 0.,  0.,  0.,  0.,  0.],\n",
    "    #    [ 0.,  0.,  0., -1.,  0.]]\n",
    "\n",
    "    # Assign Id\n",
    "    sc[0,0] = c_id\n",
    "    sc[1] = [0.1, 0.0, 0.0, float(np.random.randint(-1, 1)), float(np.random.randint(-1, 1))]\n",
    "    # sc[2] = [0.1, sc[1,3], sc[1,4], sc[1,3] + float(np.random.randint(-1, 1)), sc[1,4] + float(np.random.randint(-1, 1))]\n",
    "    # sc[3] = [0.1, sc[2,3], sc[2,4], sc[2,3] + float(np.random.randint(-1, 1)), sc[2,4] + float(np.random.randint(-1, 1))]\n",
    "    # sc[3] = [0.1, sc[3,3], sc[3,4], sc[3,3] + float(np.random.randint(-1, 1)), sc[3,4] + float(np.random.randint(-1, 1))]\n",
    "\n",
    "    return sc\n",
    "\n",
    "creature = generate_random_simple_creature()"
   ],
   "metadata": {
    "collapsed": false,
    "pycharm": {
     "name": "#%%\n"
    }
   }
  },
  {
   "cell_type": "code",
   "execution_count": 307,
   "outputs": [
    {
     "data": {
      "text/plain": "<Figure size 432x288 with 1 Axes>",
      "image/png": "[encoded data removed]"
     },
     "metadata": {
      "needs_background": "light"
     },
     "output_type": "display_data"
    },
    {
     "data": {
      "text/plain": "array([[1. , 9. , 6. , 0. , 0. ],\n       [0.1, 9. , 6. , 6. , 5. ]])"
     },
     "execution_count": 307,
     "metadata": {},
     "output_type": "execute_result"
    }
   ],
   "source": [
    "world_size = 15\n",
    "empty_template = np.zeros(shape=(world_size,world_size))\n",
    "\n",
    "creature2 = generate_random_simple_creature()\n",
    "creature2[0,1] = np.random.randint(2,world_size-2)\n",
    "creature2[0,2] = np.random.randint(2,world_size-2)\n",
    "\n",
    "translated_creature = cr.translate_creature_segs_to_world(creature2)\n",
    "\n",
    "cr.place_creature(empty_template, translated_creature)\n",
    "ar.render_array(empty_template)\n",
    "\n",
    "translated_creature"
   ],
   "metadata": {
    "collapsed": false,
    "pycharm": {
     "name": "#%%\n"
    }
   }
  },
  {
   "cell_type": "code",
   "execution_count": 308,
   "outputs": [
    {
     "data": {
      "text/plain": "array([[ 2,  2,  4,  2],\n       [ 0, -1,  3, -2],\n       [ 1,  2, -5,  4],\n       [ 2, -3, -1, -3]])"
     },
     "execution_count": 308,
     "metadata": {},
     "output_type": "execute_result"
    }
   ],
   "source": [
    "matrix = np.random.randint(-5, 5, (4,4))\n",
    "matrix"
   ],
   "metadata": {
    "collapsed": false,
    "pycharm": {
     "name": "#%%\n"
    }
   }
  },
  {
   "cell_type": "code",
   "execution_count": 309,
   "outputs": [
    {
     "data": {
      "text/plain": "(-5.0, 1.0000000000000002)"
     },
     "execution_count": 309,
     "metadata": {},
     "output_type": "execute_result"
    }
   ],
   "source": [
    "\n",
    "theta = np.pi/2\n",
    "x = 1\n",
    "y = 5\n",
    "cr.rotate_vector(x, y, theta)"
   ],
   "metadata": {
    "collapsed": false,
    "pycharm": {
     "name": "#%%\n"
    }
   }
  }
 ],
 "metadata": {
  "kernelspec": {
   "display_name": "Python 3",
   "language": "python",
   "name": "python3"
  },
  "language_info": {
   "codemirror_mode": {
    "name": "ipython",
    "version": 2
   },
   "file_extension": ".py",
   "mimetype": "text/x-python",
   "name": "python",
   "nbconvert_exporter": "python",
   "pygments_lexer": "ipython2",
   "version": "2.7.6"
  }
 },
 "nbformat": 4,
 "nbformat_minor": 0
}