{
 "cells": [
  {
   "cell_type": "code",
   "execution_count": 64,
   "outputs": [
    {
     "data": {
      "text/plain": "<Figure size 432x288 with 1 Axes>",
      "image/png": "[encoded data removed]"
     },
     "metadata": {
      "needs_background": "light"
     },
     "output_type": "display_data"
    },
    {
     "data": {
      "text/plain": "<Figure size 432x288 with 1 Axes>",
      "image/png": "[encoded data removed]"
     },
     "metadata": {
      "needs_background": "light"
     },
     "output_type": "display_data"
    },
    {
     "data": {
      "text/plain": "<Figure size 432x288 with 1 Axes>",
      "image/png": "[encoded data removed]"
     },
     "metadata": {
      "needs_background": "light"
     },
     "output_type": "display_data"
    },
    {
     "data": {
      "text/plain": "<Figure size 432x288 with 1 Axes>",
      "image/png": "[encoded data removed]"
     },
     "metadata": {
      "needs_background": "light"
     },
     "output_type": "display_data"
    },
    {
     "data": {
      "text/plain": "{'world_size': 100,\n 'global_creature_id_counter': 11,\n 'world_array': array([[0, 0, 0, ..., 0, 0, 0],\n        [0, 0, 0, ..., 0, 0, 0],\n        [0, 0, 0, ..., 0, 0, 0],\n        ...,\n        [0, 0, 0, ..., 0, 0, 0],\n        [0, 0, 0, ..., 0, 0, 0],\n        [0, 0, 0, ..., 0, 0, 0]]),\n 'carbon_dioxide_map': array([[5, 5, 5, ..., 5, 5, 5],\n        [5, 5, 5, ..., 5, 5, 5],\n        [5, 5, 5, ..., 5, 5, 5],\n        ...,\n        [5, 5, 5, ..., 5, 5, 5],\n        [5, 5, 5, ..., 5, 5, 5],\n        [5, 5, 5, ..., 5, 5, 5]]),\n 'plants': [array([[ 1., 21., 88.,  0.,  4.],\n         [ 1.,  0.,  0., -1.,  0.],\n         [ 0., -1.,  0., -1., -1.],\n         [ 0., -1.,  0., -1., -1.],\n         [ 0., -1.,  0., -1., -1.],\n         [ 0., -1., -1., -1., -2.],\n         [ 0., -1., -1., -1., -1.],\n         [ 0., -1., -1., -2., -1.],\n         [ 0., -1., -1., -2., -1.],\n         [ 0., -1., -1., -2., -2.],\n         [ 0., -1.,  0., -2., -1.],\n         [ 0., -2., -1., -3., -2.],\n         [ 0., -1., -1., -2., -2.],\n         [ 0., -1., -1., -2., -2.],\n         [ 0., -2., -1., -3., -1.],\n         [ 0., -2., -2., -3., -2.],\n         [ 0., -1., -2., -1., -2.],\n         [ 0., -1., -1., -1., -2.]]),\n  array([[ 2., 23., 33.,  0.,  4.],\n         [ 1.,  0.,  0.,  0.,  0.],\n         [ 0.,  0.,  0.,  0.,  0.],\n         [ 0.,  0.,  0., -1.,  0.],\n         [ 0.,  0.,  0.,  0.,  0.],\n         [ 0.,  0.,  0.,  0.,  0.],\n         [ 0., -1.,  0., -2.,  0.],\n         [ 0.,  0.,  0.,  0., -1.],\n         [ 0.,  0., -1., -1., -1.],\n         [ 0., -2.,  0., -2., -1.],\n         [ 0., -1., -1., -1., -1.],\n         [ 0., -2.,  0., -3., -1.],\n         [ 0., -1., -1., -1., -2.],\n         [ 0.,  0.,  0.,  0.,  0.],\n         [ 0.,  0.,  0., -1.,  0.],\n         [ 0.,  0., -1., -1., -2.],\n         [ 0., -1., -2., -1., -3.],\n         [ 0., -1., -2., -2., -2.]]),\n  array([[ 3., 15., 34.,  0.,  2.],\n         [ 1.,  0.,  0., -1., -1.],\n         [ 0., -1., -1., -1., -2.],\n         [ 0., -1., -2., -2., -3.],\n         [ 0., -1., -2., -1., -3.],\n         [ 0., -1., -1., -2., -1.],\n         [ 0., -2., -1., -3., -2.],\n         [ 0., -2., -3., -3., -3.],\n         [ 0., -2., -1., -3., -1.],\n         [ 0., -3., -2., -3., -2.],\n         [ 0., -3., -3., -3., -3.],\n         [ 0., -3., -3., -3., -4.],\n         [ 0., -3., -4., -4., -4.],\n         [ 0., -1., -1., -2., -1.],\n         [ 0., -4., -4., -5., -4.],\n         [ 0., -1., -3., -2., -3.],\n         [ 0., -2., -3., -3., -4.],\n         [ 0., -3., -4., -3., -5.],\n         [ 0., -3., -4., -4., -5.],\n         [ 0., -3., -5., -3., -6.],\n         [ 0., -3., -3., -3., -4.],\n         [ 0., -1., -3., -1., -4.],\n         [ 0., -2., -3., -3., -3.],\n         [ 0., -4., -5., -4., -5.],\n         [ 0., -2., -3., -2., -3.],\n         [ 0., -2., -3., -3., -4.],\n         [ 0., -3., -4., -4., -4.],\n         [ 0., -3., -5., -4., -5.],\n         [ 0., -1., -2., -2., -2.],\n         [ 0., -2., -3., -3., -3.],\n         [ 0., -4., -5., -4., -5.],\n         [ 0., -3., -4., -3., -4.],\n         [ 0., -1., -1., -1., -2.],\n         [ 0., -2., -2., -3., -2.],\n         [ 0., -3., -4., -3., -4.]]),\n  array([[ 4., 67., 55.,  0.,  4.],\n         [ 1.,  0.,  0.,  0., -1.],\n         [ 0.,  0., -1.,  0., -2.],\n         [ 0.,  0., -1.,  0., -2.],\n         [ 0.,  0., -2.,  0., -2.],\n         [ 0.,  0., -2.,  0., -3.],\n         [ 0.,  0., -2., -1., -3.],\n         [ 0., -1., -3., -2., -3.],\n         [ 0.,  0., -2.,  0., -2.],\n         [ 0., -2., -3., -3., -3.],\n         [ 0.,  0., -2., -1., -2.],\n         [ 0., -2., -3., -2., -4.],\n         [ 0.,  0., -3., -1., -4.],\n         [ 0.,  0., -3., -1., -4.],\n         [ 0.,  0., -3.,  0., -4.],\n         [ 0., -2., -4., -3., -4.],\n         [ 0.,  0., -2.,  0., -2.],\n         [ 0., -1., -3., -2., -3.]]),\n  array([[ 5.,  8., 20.,  0.,  4.],\n         [ 1.,  0.,  0., -1.,  0.],\n         [ 0., -1.,  0., -2.,  0.],\n         [ 0., -1.,  0., -2.,  0.],\n         [ 0., -2.,  0., -3., -1.],\n         [ 0., -3., -1., -4., -1.],\n         [ 0., -3., -1., -3., -2.],\n         [ 0., -3., -1., -4., -2.],\n         [ 0., -2.,  0., -3.,  0.],\n         [ 0., -2.,  0., -3.,  0.],\n         [ 0., -4., -1., -5., -2.],\n         [ 0., -2.,  0., -2.,  0.],\n         [ 0., -3.,  0., -3.,  0.],\n         [ 0., -4., -2., -5., -2.],\n         [ 0., -5., -2., -5., -3.],\n         [ 0., -5., -2., -6., -3.],\n         [ 0., -5., -3., -6., -3.],\n         [ 0., -5., -2., -6., -3.]]),\n  array([[ 6., 65., 74.,  0.,  4.],\n         [ 1.,  0.,  0.,  0., -1.],\n         [ 0.,  0., -1., -1., -1.],\n         [ 0., -1., -1., -1., -2.],\n         [ 0., -1., -1., -2., -1.],\n         [ 0., -1., -2., -1., -3.],\n         [ 0.,  0., -1., -1., -1.],\n         [ 0., -1., -1., -2., -1.],\n         [ 0., -1., -3., -2., -3.],\n         [ 0., -2., -1., -2., -2.],\n         [ 0., -2., -1., -2., -2.],\n         [ 0., -2., -2., -2., -3.],\n         [ 0., -2., -1., -3., -1.],\n         [ 0., -1., -1., -1., -2.],\n         [ 0., -2., -2., -3., -3.],\n         [ 0., -3., -3., -4., -4.],\n         [ 0., -1., -2., -1., -3.],\n         [ 0., -2., -2., -2., -3.]]),\n  array([[ 7., 13., 28.,  0.,  4.],\n         [ 1.,  0.,  0.,  0.,  0.],\n         [ 0.,  0.,  0.,  0., -1.],\n         [ 0.,  0., -1., -1., -1.],\n         [ 0.,  0.,  0.,  0.,  0.],\n         [ 0.,  0.,  0., -1.,  0.],\n         [ 0., -1.,  0., -2.,  0.],\n         [ 0.,  0.,  0., -1., -1.],\n         [ 0., -2.,  0., -2., -1.],\n         [ 0., -1.,  0., -1., -1.],\n         [ 0., -1., -1., -2., -2.],\n         [ 0., -1., -1., -1., -2.],\n         [ 0., -2.,  0., -3.,  0.],\n         [ 0., -2., -2., -2., -3.],\n         [ 0., -1.,  0., -1., -1.],\n         [ 0., -2., -2., -2., -3.],\n         [ 0., -1., -1., -1., -2.],\n         [ 0., -1., -1., -2., -1.]]),\n  array([[ 8., 20., 65.,  0.,  4.],\n         [ 1.,  0.,  0.,  0., -1.],\n         [ 0.,  0., -1.,  0., -1.],\n         [ 0.,  0., -1., -1., -1.],\n         [ 0., -1., -1., -1., -2.],\n         [ 0., -1., -1., -1., -2.],\n         [ 0., -1., -2., -2., -2.],\n         [ 0., -1., -1., -1., -1.],\n         [ 0.,  0., -1.,  0., -1.],\n         [ 0., -1., -1., -2., -1.],\n         [ 0., -1., -2., -2., -2.],\n         [ 0., -1., -1., -2., -1.],\n         [ 0., -2., -1., -2., -2.],\n         [ 0., -2., -2., -2., -3.],\n         [ 0., -2., -1., -2., -2.],\n         [ 0., -1., -1., -2., -2.],\n         [ 0.,  0., -1.,  0., -1.],\n         [ 0., -2., -2., -3., -3.]]),\n  array([[ 9., 63., 57.,  0.,  4.],\n         [ 1.,  0.,  0.,  0., -1.],\n         [ 0.,  0., -1., -1., -2.],\n         [ 0., -1., -2., -2., -2.],\n         [ 0.,  0., -1., -1., -1.],\n         [ 0., -1., -1., -2., -2.],\n         [ 0., -2., -2., -2., -2.],\n         [ 0., -2., -2., -3., -2.],\n         [ 0., -3., -2., -3., -3.],\n         [ 0., -3., -3., -4., -3.],\n         [ 0., -2., -2., -2., -2.],\n         [ 0., -2., -2., -2., -3.],\n         [ 0., -2., -3., -3., -3.],\n         [ 0., -2., -2., -2., -3.],\n         [ 0., -2., -2., -2., -2.],\n         [ 0., -2., -2., -2., -2.],\n         [ 0., -3., -3., -4., -3.],\n         [ 0., -4., -3., -5., -3.]]),\n  array([[10., 62., 15.,  0.,  4.],\n         [ 1.,  0.,  0.,  0., -1.],\n         [ 0.,  0., -1., -1., -2.],\n         [ 0., -1., -2., -1., -3.],\n         [ 0., -1., -3., -1., -4.],\n         [ 0., -1., -4., -2., -5.],\n         [ 0., -1., -3., -1., -4.],\n         [ 0., -1., -4., -2., -4.],\n         [ 0., -1., -4., -2., -4.],\n         [ 0., -2., -4., -2., -5.],\n         [ 0., -2., -5., -3., -5.],\n         [ 0., -1., -4., -2., -5.],\n         [ 0., -1., -4., -2., -4.],\n         [ 0., -2., -4., -3., -4.],\n         [ 0., -2., -4., -2., -4.],\n         [ 0., -2., -5., -2., -6.],\n         [ 0., -2., -6., -2., -7.],\n         [ 0., -2., -6., -3., -6.]])]}"
     },
     "execution_count": 64,
     "metadata": {},
     "output_type": "execute_result"
    }
   ],
   "source": [
    "%reload_ext autoreload\n",
    "%autoreload\n",
    "\n",
    "import numpy as np\n",
    "import creature_spawning.spawn_creature as sc\n",
    "import visualization.creature_rendering as creature_render\n",
    "import visualization.array_rendering as ar\n",
    "\n",
    "def photosynthesize(world_params):\n",
    "    # for plant_id in enumerate(world_params['world_array'][np.nonzero(world_params['world_array'])]):\n",
    "    occupied_squares = np.nonzero(world_params['world_array'])\n",
    "    for index, x in enumerate(occupied_squares[0]):\n",
    "        y = occupied_squares[1][index]\n",
    "        world_params['plants'][int(np.round(world_params['world_array'][x][y])) - 1][0][4] += 1\n",
    "        world_params['carbon_dioxide_map'][x][y] -= 1\n",
    "\n",
    "def grow_plants(world_params):\n",
    "    new_growth = []\n",
    "    for index, plant in enumerate(world_params['plants']):\n",
    "        if plant[0][4] > 5:\n",
    "            plant[0][4] = 0\n",
    "            joined_seg = plant[np.random.randint(1, len(plant))]\n",
    "            new_seg = [0, joined_seg[3], joined_seg[4], joined_seg[3] + np.random.randint(-1, 1), joined_seg[4] + np.random.randint(-1, 1)]\n",
    "            new_growth.append((index, np.append(plant, [new_seg], 0)))\n",
    "\n",
    "    for index, new_plant in new_growth:\n",
    "        world_params['plants'][index] = new_plant\n",
    "\n",
    "\n",
    "\n",
    "world_params = { 'world_size': 100,\n",
    "                 'global_creature_id_counter': int(1) }\n",
    "\n",
    "world_params['world_array'] = np.zeros(shape=(world_params['world_size'], world_params['world_size']), dtype=int)\n",
    "\n",
    "world_params['carbon_dioxide_map'] = np.full(shape=(world_params['world_size'], world_params['world_size']),\n",
    "                             fill_value=5)\n",
    "\n",
    "sc.spawn_new_plants(world_params=world_params,\n",
    "                             num_plants=10)\n",
    "\n",
    "creature_render.place_creatures(world_params)\n",
    "\n",
    "ar.render_array(world_params['world_array'])\n",
    "ar.render_array(world_params['carbon_dioxide_map'])\n",
    "\n",
    "for i in range(100):\n",
    "    photosynthesize(world_params)\n",
    "    grow_plants(world_params)\n",
    "\n",
    "creature_render.place_creatures(world_params)\n",
    "\n",
    "ar.render_array(world_params['world_array'])\n",
    "ar.render_array(world_params['carbon_dioxide_map'])\n",
    "\n",
    "world_params"
   ],
   "metadata": {
    "collapsed": false,
    "pycharm": {
     "name": "#%%\n"
    }
   }
  }
 ],
 "metadata": {
  "kernelspec": {
   "display_name": "Python 3",
   "language": "python",
   "name": "python3"
  },
  "language_info": {
   "codemirror_mode": {
    "name": "ipython",
    "version": 2
   },
   "file_extension": ".py",
   "mimetype": "text/x-python",
   "name": "python",
   "nbconvert_exporter": "python",
   "pygments_lexer": "ipython2",
   "version": "2.7.6"
  }
 },
 "nbformat": 4,
 "nbformat_minor": 0
}