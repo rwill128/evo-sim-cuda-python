{
 "cells": [
  {
   "cell_type": "code",
   "execution_count": 24,
   "outputs": [
    {
     "data": {
      "text/plain": "<Figure size 432x288 with 1 Axes>",
      "image/png": "[encoded data removed]"
     },
     "metadata": {
      "needs_background": "light"
     },
     "output_type": "display_data"
    },
    {
     "data": {
      "text/plain": "<Figure size 432x288 with 1 Axes>",
      "image/png": "[encoded data removed]"
     },
     "metadata": {
      "needs_background": "light"
     },
     "output_type": "display_data"
    },
    {
     "data": {
      "text/plain": "<Figure size 432x288 with 1 Axes>",
      "image/png": "[encoded data removed]"
     },
     "metadata": {
      "needs_background": "light"
     },
     "output_type": "display_data"
    },
    {
     "data": {
      "text/plain": "<Figure size 432x288 with 1 Axes>",
      "image/png": "[encoded data removed]"
     },
     "metadata": {
      "needs_background": "light"
     },
     "output_type": "display_data"
    },
    {
     "data": {
      "text/plain": "{'world_size': 10,\n 'global_creature_id_counter': 3,\n 'world_array': array([[0, 0, 0, 0, 0, 0, 0, 0, 0, 0],\n        [0, 0, 2, 0, 0, 0, 0, 0, 0, 0],\n        [0, 0, 0, 2, 0, 0, 1, 0, 0, 0],\n        [0, 0, 0, 0, 0, 0, 0, 0, 0, 0],\n        [0, 0, 0, 0, 0, 0, 0, 0, 0, 0],\n        [0, 0, 0, 0, 0, 0, 0, 0, 0, 0],\n        [0, 0, 0, 0, 0, 0, 0, 0, 0, 0],\n        [0, 0, 0, 0, 0, 0, 0, 0, 0, 0],\n        [0, 0, 0, 0, 0, 0, 0, 0, 0, 0],\n        [0, 0, 0, 0, 0, 0, 0, 0, 0, 0]]),\n 'carbon_dioxide_map': array([[5, 5, 5, 5, 5, 5, 5, 5, 5, 5],\n        [5, 5, 4, 5, 5, 5, 5, 5, 5, 5],\n        [5, 5, 5, 4, 5, 5, 4, 5, 5, 5],\n        [5, 5, 5, 5, 5, 5, 5, 5, 5, 5],\n        [5, 5, 5, 5, 5, 5, 5, 5, 5, 5],\n        [5, 5, 5, 5, 5, 5, 5, 5, 5, 5],\n        [5, 5, 5, 5, 5, 5, 5, 5, 5, 5],\n        [5, 5, 5, 5, 5, 5, 5, 5, 5, 5],\n        [5, 5, 5, 5, 5, 5, 5, 5, 5, 5],\n        [5, 5, 5, 5, 5, 5, 5, 5, 5, 5]]),\n 'plants': [array([[ 1.,  2.,  6.,  0.,  1.],\n         [ 1.,  0.,  0., -1.,  0.]]),\n  array([[ 2.,  2.,  3.,  0.,  2.],\n         [ 1.,  0.,  0., -1., -1.]])]}"
     },
     "execution_count": 24,
     "metadata": {},
     "output_type": "execute_result"
    }
   ],
   "source": [
    "%reload_ext autoreload\n",
    "%autoreload\n",
    "\n",
    "import numpy as np\n",
    "import creature_spawning.spawn_creature as sc\n",
    "import visualization.creature_rendering as creature_render\n",
    "import visualization.array_rendering as ar\n",
    "\n",
    "def photosynthesize(world_params):\n",
    "    # for plant_id in enumerate(world_params['world_array'][np.nonzero(world_params['world_array'])]):\n",
    "    occupied_squares = np.nonzero(world_params['world_array'])\n",
    "    for index, x in enumerate(occupied_squares[0]):\n",
    "        y = occupied_squares[1][index]\n",
    "        world_params['plants'][int(np.round(world_params['world_array'][x][y])) - 1][0][4] += 1\n",
    "        world_params['carbon_dioxide_map'][x][y] -= 1\n",
    "\n",
    "def grow_plants(world_params):\n",
    "    new_growth = []\n",
    "    for index, plant in enumerate(world_params['plants']):\n",
    "        if plant[0][4] > 50:\n",
    "            plant[0][4] = 0\n",
    "            joined_seg = plant[np.random.randint(1, len(plant))]\n",
    "            new_seg = [0, joined_seg[3], joined_seg[4], joined_seg[3] + np.random.randint(-1, 1), joined_seg[4] + np.random.randint(-1, 1)]\n",
    "            new_growth.append((index, np.append(plant, [new_seg], 0)))\n",
    "\n",
    "    for index, new_plant in new_growth:\n",
    "        world_params['plants'][index] = new_plant\n",
    "\n",
    "world_params = { 'world_size': 10,\n",
    "                 'global_creature_id_counter': int(1) }\n",
    "\n",
    "world_params['world_array'] = np.zeros(shape=(world_params['world_size'], world_params['world_size']), dtype=int)\n",
    "\n",
    "world_params['carbon_dioxide_map'] = np.full(shape=(world_params['world_size'], world_params['world_size']),\n",
    "                             fill_value=5)\n",
    "\n",
    "sc.spawn_new_plants(world_params=world_params,\n",
    "                             num_plants=2)\n",
    "\n",
    "creature_render.place_creatures(world_params)\n",
    "\n",
    "ar.render_array(world_params['world_array'])\n",
    "ar.render_array(world_params['carbon_dioxide_map'])\n",
    "\n",
    "for i in range(1):\n",
    "    photosynthesize(world_params)\n",
    "    # move_gases(world_params)\n",
    "    grow_plants(world_params)\n",
    "\n",
    "creature_render.place_creatures(world_params)\n",
    "\n",
    "ar.render_array(world_params['world_array'])\n",
    "ar.render_array(world_params['carbon_dioxide_map'])\n",
    "\n",
    "world_params"
   ],
   "metadata": {
    "collapsed": false,
    "pycharm": {
     "name": "#%%\n"
    }
   }
  },
  {
   "cell_type": "code",
   "execution_count": 25,
   "outputs": [
    {
     "data": {
      "text/plain": "<Figure size 432x288 with 1 Axes>",
      "image/png": "[encoded data removed]"
     },
     "metadata": {
      "needs_background": "light"
     },
     "output_type": "display_data"
    },
    {
     "data": {
      "text/plain": "<Figure size 432x288 with 1 Axes>",
      "image/png": "[encoded data removed]"
     },
     "metadata": {
      "needs_background": "light"
     },
     "output_type": "display_data"
    },
    {
     "data": {
      "text/plain": "<Figure size 432x288 with 1 Axes>",
      "image/png": "[encoded data removed]"
     },
     "metadata": {
      "needs_background": "light"
     },
     "output_type": "display_data"
    },
    {
     "data": {
      "text/plain": "<Figure size 432x288 with 1 Axes>",
      "image/png": "[encoded data removed]"
     },
     "metadata": {
      "needs_background": "light"
     },
     "output_type": "display_data"
    },
    {
     "data": {
      "text/plain": "<Figure size 432x288 with 1 Axes>",
      "image/png": "[encoded data removed]"
     },
     "metadata": {
      "needs_background": "light"
     },
     "output_type": "display_data"
    },
    {
     "data": {
      "text/plain": "<Figure size 432x288 with 1 Axes>",
      "image/png": "[encoded data removed]"
     },
     "metadata": {
      "needs_background": "light"
     },
     "output_type": "display_data"
    },
    {
     "data": {
      "text/plain": "<Figure size 432x288 with 1 Axes>",
      "image/png": "[encoded data removed]"
     },
     "metadata": {
      "needs_background": "light"
     },
     "output_type": "display_data"
    },
    {
     "data": {
      "text/plain": "<Figure size 432x288 with 1 Axes>",
      "image/png": "[encoded data removed]"
     },
     "metadata": {
      "needs_background": "light"
     },
     "output_type": "display_data"
    },
    {
     "data": {
      "text/plain": "<Figure size 432x288 with 1 Axes>",
      "image/png": "[encoded data removed]"
     },
     "metadata": {
      "needs_background": "light"
     },
     "output_type": "display_data"
    },
    {
     "data": {
      "text/plain": "<Figure size 432x288 with 1 Axes>",
      "image/png": "[encoded data removed]"
     },
     "metadata": {
      "needs_background": "light"
     },
     "output_type": "display_data"
    }
   ],
   "source": [
    "def move_gases(world_params):\n",
    "    gas_filled_squares = np.nonzero(world_params['carbon_dioxide_map'])\n",
    "    for index, x in enumerate(gas_filled_squares[0]):\n",
    "        y = gas_filled_squares[1][index]\n",
    "        possible_places_to_go = []\n",
    "        gas_value = world_params['carbon_dioxide_map'][x][y]\n",
    "        if x > 0 and world_params['carbon_dioxide_map'][x - 1][y] < gas_value:\n",
    "            possible_places_to_go.append((x - 1, y))\n",
    "        if x < world_params['world_size'] and world_params['carbon_dioxide_map'][x + 1][y] < gas_value:\n",
    "            possible_places_to_go.append((x + 1, y))\n",
    "        if y > 0 and world_params['carbon_dioxide_map'][x][y - 1] < gas_value:\n",
    "            possible_places_to_go.append((x, y - 1))\n",
    "        if y < world_params['world_size'] and world_params['carbon_dioxide_map'][x][y + 1] < gas_value:\n",
    "            possible_places_to_go.append((x, y + 1))\n",
    "\n",
    "        i, j = possible_places_to_go[np.random.randint(0, len(possible_places_to_go))]\n",
    "        world_params['carbon_dioxide_map'][x][y] -= 1\n",
    "        world_params['carbon_dioxide_map'][i][j] += 1\n",
    "\n",
    "world_params = {\n",
    "    'world_size': 2,\n",
    "    'carbon_dioxide_map': [[0, 0 , 0],\n",
    "                                      [0, 1, 0],\n",
    "                                      [0, 0, 0]]}\n",
    "\n",
    "for i in range(10):\n",
    "    move_gases(world_params)\n",
    "    ar.render_array(world_params['carbon_dioxide_map'])\n"
   ],
   "metadata": {
    "collapsed": false,
    "pycharm": {
     "name": "#%%\n"
    }
   }
  }
 ],
 "metadata": {
  "kernelspec": {
   "display_name": "Python 3",
   "language": "python",
   "name": "python3"
  },
  "language_info": {
   "codemirror_mode": {
    "name": "ipython",
    "version": 2
   },
   "file_extension": ".py",
   "mimetype": "text/x-python",
   "name": "python",
   "nbconvert_exporter": "python",
   "pygments_lexer": "ipython2",
   "version": "2.7.6"
  }
 },
 "nbformat": 4,
 "nbformat_minor": 0
}