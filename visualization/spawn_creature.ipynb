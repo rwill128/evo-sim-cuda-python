{
 "cells": [
  {
   "cell_type": "code",
   "execution_count": 150,
   "outputs": [
    {
     "name": "stdout",
     "output_type": "stream",
     "text": [
      "The autoreload extension is already loaded. To reload it, use:\n",
      "  %reload_ext autoreload\n"
     ]
    }
   ],
   "source": [
    "%load_ext autoreload"
   ],
   "metadata": {
    "collapsed": false,
    "pycharm": {
     "name": "#%%\n"
    }
   }
  },
  {
   "cell_type": "code",
   "execution_count": 151,
   "outputs": [
    {
     "ename": "ImportError",
     "evalue": "cannot import name 'place_creature' from 'visualization.creature_rendering' (C:\\Users\\Rick\\PycharmProjects\\pythonProject1\\visualization\\creature_rendering.py)",
     "output_type": "error",
     "traceback": [
      "\u001B[1;31m---------------------------------------------------------------------------\u001B[0m",
      "\u001B[1;31mImportError\u001B[0m                               Traceback (most recent call last)",
      "\u001B[1;32m<ipython-input-151-c338e5426c94>\u001B[0m in \u001B[0;36m<module>\u001B[1;34m\u001B[0m\n\u001B[0;32m      3\u001B[0m \u001B[1;32mimport\u001B[0m \u001B[0mmatplotlib\u001B[0m\u001B[1;33m.\u001B[0m\u001B[0mpyplot\u001B[0m \u001B[1;32mas\u001B[0m \u001B[0mplt\u001B[0m\u001B[1;33m\u001B[0m\u001B[1;33m\u001B[0m\u001B[0m\n\u001B[0;32m      4\u001B[0m \u001B[1;32mimport\u001B[0m \u001B[0mmatplotlib\u001B[0m\u001B[1;33m.\u001B[0m\u001B[0mcm\u001B[0m \u001B[1;32mas\u001B[0m \u001B[0mcm\u001B[0m\u001B[1;33m\u001B[0m\u001B[1;33m\u001B[0m\u001B[0m\n\u001B[1;32m----> 5\u001B[1;33m \u001B[1;32mfrom\u001B[0m \u001B[0mvisualization\u001B[0m\u001B[1;33m.\u001B[0m\u001B[0mcreature_rendering\u001B[0m \u001B[1;32mimport\u001B[0m \u001B[0mdetect_occluded_squares\u001B[0m\u001B[1;33m,\u001B[0m \u001B[0mplace_creature\u001B[0m\u001B[1;33m\u001B[0m\u001B[1;33m\u001B[0m\u001B[0m\n\u001B[0m\u001B[0;32m      6\u001B[0m \u001B[1;33m\u001B[0m\u001B[0m\n",
      "\u001B[1;31mImportError\u001B[0m: cannot import name 'place_creature' from 'visualization.creature_rendering' (C:\\Users\\Rick\\PycharmProjects\\pythonProject1\\visualization\\creature_rendering.py)"
     ]
    }
   ],
   "source": [
    "%autoreload\n",
    "\n",
    "import matplotlib.pyplot as plt\n",
    "import matplotlib.cm as cm\n",
    "from visualization.creature_rendering import detect_occluded_squares, place_creature"
   ],
   "metadata": {
    "collapsed": false,
    "pycharm": {
     "name": "#%%\n"
    }
   }
  },
  {
   "cell_type": "code",
   "execution_count": null,
   "outputs": [],
   "source": [
    "import numpy as np\n",
    "def render_creature(l: np.ndarray):\n",
    "    fig4 = plt.figure()\n",
    "    ax4 = fig4.add_subplot(122)\n",
    "    ax4.imshow(l, interpolation='nearest', cmap=cm.Greys_r)\n",
    "    plt.show()\n"
   ],
   "metadata": {
    "collapsed": false,
    "pycharm": {
     "name": "#%%\n"
    }
   }
  },
  {
   "cell_type": "code",
   "execution_count": null,
   "metadata": {
    "collapsed": true,
    "pycharm": {
     "name": "#%%\n"
    }
   },
   "outputs": [],
   "source": [
    "\n",
    "test_line = [80.0,10.0,10.0,80.0]\n",
    "empty_template = np.zeros((100,100))\n",
    "creature_id = 5\n",
    "\n",
    "detect_occluded_squares(empty_template, test_line, creature_id)\n",
    "\n",
    "render_creature(empty_template)\n",
    "\n",
    "empty_template"
   ]
  },
  {
   "cell_type": "code",
   "execution_count": null,
   "outputs": [],
   "source": [
    "\n",
    "\n",
    "empty_template = np.zeros((100,100))\n",
    "num_segments = 4\n",
    "creature_id = 5\n",
    "\n",
    "creature = np.ndarray(shape=(num_segments + 1, 5))\n",
    "creature[0,0] = creature_id\n",
    "creature[1] = [.1, 10.0,10.0,90.0,90.0]\n",
    "creature[2] = [.2, 10.0,90.0,90.0,10.0]\n",
    "creature[3] = [.3, 80.0,10.0,10.0,80.0]\n",
    "creature[4] = [.4, 80.0,90.0,10.0,20.0]\n",
    "\n",
    "place_creature(empty_template, creature)\n",
    "\n",
    "render_creature(empty_template)\n",
    "\n",
    "empty_template"
   ],
   "metadata": {
    "collapsed": false,
    "pycharm": {
     "name": "#%%\n"
    }
   }
  }
 ],
 "metadata": {
  "kernelspec": {
   "display_name": "Python 3",
   "language": "python",
   "name": "python3"
  },
  "language_info": {
   "codemirror_mode": {
    "name": "ipython",
    "version": 2
   },
   "file_extension": ".py",
   "mimetype": "text/x-python",
   "name": "python",
   "nbconvert_exporter": "python",
   "pygments_lexer": "ipython2",
   "version": "2.7.6"
  }
 },
 "nbformat": 4,
 "nbformat_minor": 0
}