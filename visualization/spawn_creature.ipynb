{
 "cells": [
  {
   "cell_type": "code",
   "execution_count": 4,
   "outputs": [
    {
     "data": {
      "text/plain": "<Figure size 432x288 with 1 Axes>",
      "image/png": "[encoded data removed]"
     },
     "metadata": {
      "needs_background": "light"
     },
     "output_type": "display_data"
    },
    {
     "data": {
      "text/plain": "<Figure size 432x288 with 1 Axes>",
      "image/png": "[encoded data removed]"
     },
     "metadata": {
      "needs_background": "light"
     },
     "output_type": "display_data"
    },
    {
     "data": {
      "text/plain": "<Figure size 432x288 with 1 Axes>",
      "image/png": "[encoded data removed]"
     },
     "metadata": {
      "needs_background": "light"
     },
     "output_type": "display_data"
    },
    {
     "data": {
      "text/plain": "<Figure size 432x288 with 1 Axes>",
      "image/png": "[encoded data removed]"
     },
     "metadata": {
      "needs_background": "light"
     },
     "output_type": "display_data"
    }
   ],
   "source": [
    "%reload_ext autoreload\n",
    "%autoreload\n",
    "\n",
    "import numpy as np\n",
    "import creature_spawning.spawn_creature as sc\n",
    "import visualization.creature_rendering as creature_render\n",
    "import visualization.array_rendering as ar\n",
    "import simulation.gas_drift as gd\n",
    "import simulation.plant_simulation as ps\n",
    "\n",
    "world_params = { 'world_size': 10,\n",
    "                 'global_creature_id_counter': int(1) }\n",
    "\n",
    "world_params['world_array'] = np.zeros(shape=(world_params['world_size'], world_params['world_size']), dtype=int)\n",
    "\n",
    "world_params['carbon_dioxide_map'] = np.full(shape=(world_params['world_size'], world_params['world_size']),\n",
    "                             fill_value=5)\n",
    "world_params['carbon_dioxide_map'][0][0] = 0\n",
    "\n",
    "sc.spawn_new_plants(world_params=world_params,\n",
    "                             num_plants=1)\n",
    "\n",
    "creature_render.place_creatures(world_params)\n",
    "\n",
    "for i in range(200):\n",
    "    ps.photosynthesize(world_params)\n",
    "    gd.move_gases(world_params)\n",
    "    ps.grow_plants(world_params)\n",
    "    creature_render.place_creatures(world_params)\n",
    "\n",
    "\n",
    "    if i % 50 == 0:\n",
    "        ar.render_array(world_params['world_array'], 'Plants')\n",
    "        ar.render_array(world_params['carbon_dioxide_map'], 'Carbon Dioxide')"
   ],
   "metadata": {
    "collapsed": false,
    "pycharm": {
     "name": "#%%\n"
    }
   }
  },
  {
   "cell_type": "code",
   "execution_count": null,
   "outputs": [],
   "source": [],
   "metadata": {
    "collapsed": false,
    "pycharm": {
     "name": "#%%\n"
    }
   }
  }
 ],
 "metadata": {
  "kernelspec": {
   "display_name": "Python 3",
   "language": "python",
   "name": "python3"
  },
  "language_info": {
   "codemirror_mode": {
    "name": "ipython",
    "version": 2
   },
   "file_extension": ".py",
   "mimetype": "text/x-python",
   "name": "python",
   "nbconvert_exporter": "python",
   "pygments_lexer": "ipython2",
   "version": "2.7.6"
  }
 },
 "nbformat": 4,
 "nbformat_minor": 0
}