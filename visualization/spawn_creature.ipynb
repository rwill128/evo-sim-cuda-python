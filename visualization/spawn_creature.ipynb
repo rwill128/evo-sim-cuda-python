{
 "cells": [
  {
   "cell_type": "code",
   "execution_count": 1,
   "outputs": [
    {
     "name": "stdout",
     "output_type": "stream",
     "text": [
      "3.0\n",
      "3.0\n",
      "2.0\n",
      "4.0\n",
      "1.0\n",
      "5.0\n",
      "6.0\n"
     ]
    },
    {
     "name": "stderr",
     "output_type": "stream",
     "text": [
      "C:\\Users\\Rick\\PycharmProjects\\pythonProject1\\visualization\\creature_rendering.py:13: RuntimeWarning: invalid value encountered in double_scalars\n",
      "  slope = (y1 - y0) / (x1 - x0)\n",
      "C:\\Users\\Rick\\PycharmProjects\\pythonProject1\\visualization\\creature_rendering.py:16: RuntimeWarning: divide by zero encountered in double_scalars\n",
      "  step_size = 1 / length_of_line\n",
      "C:\\Users\\Rick\\PycharmProjects\\pythonProject1\\visualization\\creature_rendering.py:13: RuntimeWarning: divide by zero encountered in double_scalars\n",
      "  slope = (y1 - y0) / (x1 - x0)\n"
     ]
    },
    {
     "data": {
      "text/plain": "<Figure size 432x288 with 1 Axes>",
      "image/png": "[encoded data removed]"
     },
     "metadata": {
      "needs_background": "light"
     },
     "output_type": "display_data"
    },
    {
     "data": {
      "text/plain": "{'world_size': 10,\n 'global_creature_id_counter': 7,\n 'world_array': array([[0., 0., 0., 0., 0., 0., 0., 0., 0., 0.],\n        [0., 0., 0., 0., 0., 0., 0., 0., 0., 0.],\n        [0., 0., 0., 0., 3., 0., 0., 0., 0., 0.],\n        [0., 0., 0., 0., 0., 3., 0., 0., 0., 0.],\n        [0., 0., 0., 0., 2., 4., 1., 5., 0., 0.],\n        [0., 0., 0., 0., 0., 0., 0., 0., 0., 0.],\n        [0., 0., 0., 0., 0., 0., 0., 0., 0., 0.],\n        [0., 0., 0., 0., 0., 0., 0., 6., 0., 0.],\n        [0., 0., 0., 0., 0., 0., 0., 0., 0., 0.],\n        [0., 0., 0., 0., 0., 0., 0., 0., 0., 0.]]),\n 'carbon_dioxide_map': array([[5, 5, 5, 5, 5, 5, 5, 5, 5, 5],\n        [5, 5, 5, 5, 5, 5, 5, 5, 5, 5],\n        [5, 5, 5, 5, 5, 5, 5, 5, 5, 5],\n        [5, 5, 5, 5, 5, 5, 5, 5, 5, 5],\n        [5, 5, 5, 5, 5, 5, 5, 5, 5, 5],\n        [5, 5, 5, 5, 5, 5, 5, 5, 5, 5],\n        [5, 5, 5, 5, 5, 5, 5, 5, 5, 5],\n        [5, 5, 5, 5, 5, 5, 5, 5, 5, 5],\n        [5, 5, 5, 5, 5, 5, 5, 5, 5, 5],\n        [5, 5, 5, 5, 5, 5, 5, 5, 5, 5]]),\n 'plants': [array([[0., 3., 6., 0., 0.],\n         [1., 0., 0., 0., 0.]]),\n  array([[1., 4., 6., 0., 0.],\n         [1., 0., 0., 0., 0.]]),\n  array([[ 2.,  4.,  4.,  0.,  0.],\n         [ 1.,  0.,  0.,  0., -1.]]),\n  array([[ 3.,  3.,  5.,  0.,  0.],\n         [ 1.,  0.,  0., -1., -1.]]),\n  array([[ 4.,  4.,  5.,  0.,  0.],\n         [ 1.,  0.,  0., -1.,  0.]]),\n  array([[ 5.,  4.,  7.,  0.,  0.],\n         [ 1.,  0.,  0.,  0., -1.]]),\n  array([[6., 7., 7., 0., 0.],\n         [1., 0., 0., 0., 0.]])]}"
     },
     "execution_count": 1,
     "metadata": {},
     "output_type": "execute_result"
    }
   ],
   "source": [
    "%reload_ext autoreload\n",
    "%autoreload\n",
    "\n",
    "import numpy as np\n",
    "import creature_spawning.spawn_creature as sc\n",
    "import visualization.creature_rendering as creature_render\n",
    "import visualization.array_rendering as ar\n",
    "\n",
    "def photosynthesize(world_params):\n",
    "    for plant_id in world_params['world_array'][np.nonzero(world_params['world_array'])]:\n",
    "        print(plant_id)\n",
    "\n",
    "\n",
    "world_params = { 'world_size': 10,\n",
    "                 'global_creature_id_counter': 0 }\n",
    "\n",
    "world_params['world_array'] = np.zeros(shape=(world_params['world_size'], world_params['world_size']))\n",
    "\n",
    "world_params['carbon_dioxide_map'] = np.full(shape=(world_params['world_size'], world_params['world_size']),\n",
    "                             fill_value=5)\n",
    "\n",
    "sc.spawn_new_plants(world_params=world_params,\n",
    "                             num_plants=7)\n",
    "\n",
    "creature_render.place_creatures(world_params)\n",
    "\n",
    "photosynthesize(world_params)\n",
    "\n",
    "ar.render_array(world_params['world_array'])\n",
    "\n",
    "world_params"
   ],
   "metadata": {
    "collapsed": false,
    "pycharm": {
     "name": "#%%\n"
    }
   }
  }
 ],
 "metadata": {
  "kernelspec": {
   "display_name": "Python 3",
   "language": "python",
   "name": "python3"
  },
  "language_info": {
   "codemirror_mode": {
    "name": "ipython",
    "version": 2
   },
   "file_extension": ".py",
   "mimetype": "text/x-python",
   "name": "python",
   "nbconvert_exporter": "python",
   "pygments_lexer": "ipython2",
   "version": "2.7.6"
  }
 },
 "nbformat": 4,
 "nbformat_minor": 0
}