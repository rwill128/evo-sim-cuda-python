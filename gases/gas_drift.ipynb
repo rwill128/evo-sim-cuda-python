{
 "cells": [
  {
   "cell_type": "code",
   "execution_count": 41,
   "metadata": {
    "collapsed": true
   },
   "outputs": [],
   "source": [
    "%reload_ext autoreload\n",
    "%autoreload\n",
    "\n",
    "import pandas\n",
    "import numpy as np\n",
    "\n"
   ]
  },
  {
   "cell_type": "code",
   "execution_count": 42,
   "outputs": [],
   "source": [
    "def move_gases(gas: pandas.DataFrame):\n",
    "\n",
    "    vx = np.random.randint(-1, 2, size=len(gas))\n",
    "    vy = np.random.randint(-1, 2, size=len(gas))\n",
    "\n",
    "    gas['x'] += vx\n",
    "    gas['y'] += vy\n",
    "\n",
    "\n",
    "x_values = np.random.randint(0, 1000 + 1, 200000)\n",
    "y_values = np.random.randint(0, 1000 + 1, 200000)\n",
    "gas = pandas.DataFrame({'x': x_values, 'y': y_values}, dtype=int)\n",
    "\n",
    "#%timeit move_gases(gas)"
   ],
   "metadata": {
    "collapsed": false,
    "pycharm": {
     "name": "#%%\n"
    }
   }
  },
  {
   "cell_type": "code",
   "execution_count": 43,
   "outputs": [],
   "source": [
    "def select_box_indexes(gas: pandas.DataFrame):\n",
    "    return gas[(gas.x >= 490) & (gas.x <= 500) & (gas.y >= 490) & (gas.y <= 500)]\n",
    "\n",
    "#%timeit select_box_indexes(gas)"
   ],
   "metadata": {
    "collapsed": false,
    "pycharm": {
     "name": "#%%"
    }
   }
  },
  {
   "cell_type": "code",
   "execution_count": 44,
   "outputs": [],
   "source": [
    "def select_box_query(gas: pandas.DataFrame):\n",
    "    gas.query('x >= 490 & x <= 500 & y >= 490 & y <= 500', inplace=True)\n",
    "\n",
    "#%timeit select_box_query(gas)"
   ],
   "metadata": {
    "collapsed": false,
    "pycharm": {
     "name": "#%%\n"
    }
   }
  },
  {
   "cell_type": "code",
   "execution_count": 45,
   "outputs": [],
   "source": [
    "def get_num_carbon_on_plant(gas: pandas.DataFrame, plants: pandas.DataFrame):\n",
    "    pass\n",
    "\n",
    "plant_x_values = np.random.randint(0, 1000 + 1, 50000)\n",
    "plant_y_values = np.random.randint(0, 1000 + 1, 50000)\n",
    "plant_energy_values = np.zeros(shape=50000, dtype=int)\n",
    "\n",
    "plants = pandas.DataFrame.from_dict({'x':plant_x_values,'y':plant_y_values,'energy':plant_energy_values}, dtype=int)\n",
    "\n",
    "stacked_gas = gas[gas.duplicated()]"
   ],
   "metadata": {
    "collapsed": false,
    "pycharm": {
     "name": "#%%\n"
    }
   }
  }
 ],
 "metadata": {
  "kernelspec": {
   "display_name": "Python 3",
   "language": "python",
   "name": "python3"
  },
  "language_info": {
   "codemirror_mode": {
    "name": "ipython",
    "version": 2
   },
   "file_extension": ".py",
   "mimetype": "text/x-python",
   "name": "python",
   "nbconvert_exporter": "python",
   "pygments_lexer": "ipython2",
   "version": "2.7.6"
  }
 },
 "nbformat": 4,
 "nbformat_minor": 0
}