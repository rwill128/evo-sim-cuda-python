{
 "cells": [
  {
   "cell_type": "code",
   "execution_count": 2,
   "metadata": {
    "collapsed": true,
    "pycharm": {
     "name": "#%%\n"
    }
   },
   "outputs": [
    {
     "name": "stdout",
     "output_type": "stream",
     "text": [
      "[140.2734375, 140.2734375, 140.2734375, 140.2734375, 140.2734375, 140.2734375, 140.2734375, 140.2734375, 140.2734375, 140.2734375, 140.2734375, 140.2734375, 140.2734375, 140.2734375]\n"
     ]
    },
    {
     "data": {
      "text/plain": "<Figure size 432x288 with 1 Axes>",
      "image/png": "[encoded data removed]"
     },
     "metadata": {
      "needs_background": "light"
     },
     "output_type": "display_data"
    }
   ],
   "source": [
    "\n",
    "\n",
    "import timeit\n",
    "import matplotlib.pyplot as plt\n",
    "import numpy as np\n",
    "import simulation.gas_drift as gd\n",
    "from memory_profiler import memory_usage\n",
    "\n",
    "def test_gas_drift():\n",
    "\n",
    "        world_dictionary = {\n",
    "            'world_size': 100\n",
    "        }\n",
    "        world_dictionary['carbon_dioxide_map'] = np.full(shape=(world_dictionary['world_size'], world_dictionary['world_size']),\n",
    "                                                     fill_value=0)\n",
    "        for i in range(500):\n",
    "            world_dictionary['carbon_dioxide_map'][int(world_dictionary['world_size'] * .25)][\n",
    "                int(world_dictionary['world_size'] * .25)] += 1\n",
    "            world_dictionary['carbon_dioxide_map'][int(world_dictionary['world_size'] * .25)][\n",
    "                int(world_dictionary['world_size'] * .75)] += 1\n",
    "            world_dictionary['carbon_dioxide_map'][int(world_dictionary['world_size'] * .75)][\n",
    "                int(world_dictionary['world_size'] * .25)] += 1\n",
    "            world_dictionary['carbon_dioxide_map'][int(world_dictionary['world_size'] * .75)][\n",
    "                int(world_dictionary['world_size'] * .75)] += 1\n",
    "\n",
    "            gd.move_gases(world_dictionary['carbon_dioxide_map'], world_dictionary['world_size'])\n",
    "\n",
    "gas_drift_time = timeit.repeat(test_gas_drift, repeat=10, number=1)\n",
    "gas_drift_memory_usage = memory_usage(test_gas_drift, max_iterations=10)\n",
    "print(gas_drift_memory_usage)\n",
    "\n",
    "labels = ['Gas Drift']\n",
    "lowest = [np.min(gas_drift_time)]\n",
    "highest = [np.max(gas_drift_time)]\n",
    "\n",
    "x = np.arange(len(labels))  # the label locations\n",
    "width = 0.35  # the width of the bars\n",
    "\n",
    "fig, ax = plt.subplots()\n",
    "rects1 = ax.bar(x - width/2, lowest, width, label='Lowest')\n",
    "rects2 = ax.bar(x + width/2, highest, width, label='Highest')\n",
    "\n",
    "# Add some text for labels, title and custom x-axis tick labels, etc.\n",
    "ax.set_ylabel('Time in seconds')\n",
    "ax.set_title('Performance comparison of gas drift')\n",
    "ax.set_xticks(x)\n",
    "ax.set_xticklabels(labels)\n",
    "ax.legend()\n",
    "\n",
    "\n",
    "def autolabel(rects):\n",
    "    \"\"\"Attach a text label above each bar in *rects*, displaying its height.\"\"\"\n",
    "    for rect in rects:\n",
    "        height = rect.get_height()\n",
    "        ax.annotate('{}'.format(height),\n",
    "                    xy=(rect.get_x() + rect.get_width() / 2, height),\n",
    "                    xytext=(0, 1),  # 3 points vertical offset\n",
    "                    textcoords=\"offset points\",\n",
    "                    ha='center', va='bottom')\n",
    "\n",
    "\n",
    "autolabel(rects1)\n",
    "autolabel(rects2)\n",
    "\n",
    "fig.tight_layout()\n",
    "\n",
    "plt.show()"
   ]
  }
 ],
 "metadata": {
  "kernelspec": {
   "display_name": "Python 3",
   "language": "python",
   "name": "python3"
  },
  "language_info": {
   "codemirror_mode": {
    "name": "ipython",
    "version": 2
   },
   "file_extension": ".py",
   "mimetype": "text/x-python",
   "name": "python",
   "nbconvert_exporter": "python",
   "pygments_lexer": "ipython2",
   "version": "2.7.6"
  }
 },
 "nbformat": 4,
 "nbformat_minor": 0
}