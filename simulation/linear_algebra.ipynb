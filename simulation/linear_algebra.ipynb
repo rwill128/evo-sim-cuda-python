{
 "cells": [
  {
   "cell_type": "code",
   "execution_count": 9,
   "metadata": {
    "collapsed": true
   },
   "outputs": [
    {
     "name": "stdout",
     "output_type": "stream",
     "text": [
      "[[1 2 0]\n",
      " [0 1 1]\n",
      " [0 1 1]]\n",
      "[[0 0 0]\n",
      " [0 1 0]\n",
      " [0 0 0]]\n",
      "[[0 0 0]\n",
      " [0 1 0]\n",
      " [0 0 0]]\n",
      "[[0 0 0]\n",
      " [0 1 0]\n",
      " [0 0 0]]\n"
     ]
    }
   ],
   "source": [
    "%reload_ext autoreload\n",
    "%autoreload\n",
    "\n",
    "import simulation.gas_drift as gd\n",
    "import visualization.array_rendering as ar\n",
    "import numpy as np\n",
    "\n",
    "test_carbon_dioxide = np.array(\n",
    "    [[0, 0, 0],\n",
    "    [0, 1, 0],\n",
    "    [0, 0, 0]]\n",
    ")\n",
    "\n",
    "test_matrix = np.array(\n",
    "    [[1, 2, 0],\n",
    "    [0, 1, 1],\n",
    "    [0, 1, 1]]\n",
    ")\n",
    "\n",
    "\n",
    "\n",
    "print(test_matrix)\n",
    "print(test_carbon_dioxide)\n",
    "print(test_matrix * test_carbon_dioxide)\n",
    "print(test_carbon_dioxide * test_matrix)"
   ]
  }
 ],
 "metadata": {
  "kernelspec": {
   "display_name": "Python 3",
   "language": "python",
   "name": "python3"
  },
  "language_info": {
   "codemirror_mode": {
    "name": "ipython",
    "version": 2
   },
   "file_extension": ".py",
   "mimetype": "text/x-python",
   "name": "python",
   "nbconvert_exporter": "python",
   "pygments_lexer": "ipython2",
   "version": "2.7.6"
  }
 },
 "nbformat": 4,
 "nbformat_minor": 0
}