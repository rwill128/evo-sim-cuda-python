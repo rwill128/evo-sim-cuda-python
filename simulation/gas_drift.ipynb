{
 "cells": [
  {
   "cell_type": "code",
   "execution_count": 179,
   "metadata": {
    "pycharm": {
     "name": "#%%\n"
    }
   },
   "outputs": [],
   "source": [
    "import math\n",
    "import numpy as np\n",
    "from numba import cuda\n",
    "import matplotlib.pyplot as plt\n",
    "import matplotlib.cm as cm\n",
    "import scipy.signal as signal"
   ]
  },
  {
   "cell_type": "code",
   "execution_count": 180,
   "metadata": {
    "pycharm": {
     "name": "#%%\n"
    }
   },
   "outputs": [],
   "source": [
    "@cuda.jit\n",
    "def calculate_drift(m):\n",
    "    i, j = cuda.grid(2)\n",
    "    if m[i,j] > .1:\n",
    "        divisor = 5\n",
    "        if i == 0 or m[i-1,j] > m[i,j]:\n",
    "            divisor -= 1\n",
    "        if j == 0 or m[i,j-1] > m[i,j]:\n",
    "            divisor -= 1\n",
    "        if j == size - 1 or m[i,j+1] > m[i,j]:\n",
    "            divisor -= 1\n",
    "        if i == size - 1 or m[i+1,j] > m[i,j]:\n",
    "            divisor -= 1\n",
    "\n",
    "        # if (i == size - 1 and j == size - 1) or m[i+1,j+1] > m[i,j]:\n",
    "        #     divisor -= 1\n",
    "        # if (i == 0 and j == 0) or m[i-1,j-1] > m[i,j]:\n",
    "        #     divisor -= 1\n",
    "        # if (i == 0 and j == size - 1) or m[i-1,j+1] > m[i,j]:\n",
    "        #     divisor -= 1\n",
    "        # if (j == 0 and i == size - 1) or m[i+1,j-1] > m[i,j]:\n",
    "        #     divisor -= 1\n",
    "\n",
    "        if divisor == 0:\n",
    "            return\n",
    "\n",
    "        loss_from_center = 0\n",
    "\n",
    "        if i > 0 and m[i-1,j] < m[i,j]:\n",
    "            exchange = (m[i,j] - m[i-1, j]) / divisor\n",
    "            m[i-1,j] += exchange\n",
    "            loss_from_center += exchange\n",
    "\n",
    "\n",
    "        if j > 0 and m[i,j-1] < m[i,j]:\n",
    "            exchange = (m[i,j] - m[i, j-1]) / divisor\n",
    "            m[i,j-1] += exchange\n",
    "            loss_from_center += exchange\n",
    "\n",
    "\n",
    "        if j < size - 1 and m[i,j+1] < m[i,j]:\n",
    "            exchange = (m[i,j] - m[i, j+1]) / divisor\n",
    "            m[i,j+1] += exchange\n",
    "            loss_from_center += exchange\n",
    "\n",
    "\n",
    "        if i < size - 1 and m[i+1,j] < m[i,j]:\n",
    "            exchange = (m[i,j] - m[i+1, j]) / divisor\n",
    "            m[i+1,j] += exchange\n",
    "            loss_from_center += exchange\n",
    "\n",
    "        # if j < size - 1 and i < size - 1 and m[i+1,j+1] < m[i,j]:\n",
    "        #     m[i+1,j+1] += m[i,j] / divisor\n",
    "        # if i > 0 and j > 0 and m[i-1,j-1] < m[i,j]:\n",
    "        #     m[i-1,j-1] += m[i,j] / divisor\n",
    "        # if i > 0 and j < size - 1 and m[i-1,j+1] < m[i,j]:\n",
    "        #     m[i-1,j+1] += m[i,j] / divisor\n",
    "        # if j > 0 and i < size - 1 and m[i+1,j-1] < m[i,j]:\n",
    "        #     m[i+1,j-1] += m[i,j] / divisor\n",
    "\n",
    "\n",
    "        m[i,j] -= loss_from_center\n",
    "    else:\n",
    "        m[i,j] = .1\n"
   ]
  },
  {
   "cell_type": "code",
   "execution_count": 181,
   "metadata": {
    "pycharm": {
     "name": "#%%\n"
    }
   },
   "outputs": [],
   "source": [
    "size = 16\n",
    "m = np.zeros((size, size))\n",
    "m[int(size / 2), int(size / 2)] = 10\n",
    "\n",
    "# 16x16 threads per block.\n",
    "bs = 16\n",
    "# Number of blocks in the grid.\n",
    "bpg = math.ceil(size / bs)\n",
    "# We prepare the GPU function.\n",
    "f = calculate_drift[(bpg, bpg), (bs, bs)]"
   ]
  },
  {
   "cell_type": "code",
   "execution_count": 186,
   "metadata": {
    "pycharm": {
     "name": "#%%\n"
    }
   },
   "outputs": [],
   "source": [
    "m_gpu = cuda.to_device(m)"
   ]
  },
  {
   "cell_type": "code",
   "execution_count": 187,
   "metadata": {
    "pycharm": {
     "name": "#%%\n"
    }
   },
   "outputs": [
    {
     "name": "stdout",
     "output_type": "stream",
     "text": [
      "884 µs ± 153 µs per loop (mean ± std. dev. of 7 runs, 1 loop each)\n"
     ]
    }
   ],
   "source": [
    "%%timeit\n",
    "f(m)"
   ]
  },
  {
   "cell_type": "code",
   "execution_count": 188,
   "metadata": {
    "pycharm": {
     "name": "#%%\n"
    }
   },
   "outputs": [],
   "source": [
    "m = m_gpu.copy_to_host()\n",
    "\n"
   ]
  }
 ],
 "metadata": {
  "kernelspec": {
   "display_name": "Python 3",
   "language": "python",
   "name": "python3"
  },
  "language_info": {
   "codemirror_mode": {
    "name": "ipython",
    "version": 3
   },
   "file_extension": ".py",
   "mimetype": "text/x-python",
   "name": "python",
   "nbconvert_exporter": "python",
   "pygments_lexer": "ipython3",
   "version": "3.8.5"
  }
 },
 "nbformat": 4,
 "nbformat_minor": 1
}