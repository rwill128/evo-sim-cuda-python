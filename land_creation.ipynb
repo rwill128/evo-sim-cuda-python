{
 "cells": [
  {
   "cell_type": "code",
   "execution_count": null,
   "metadata": {
    "collapsed": true
   },
   "outputs": [],
   "source": [
    "import numpy as np\n",
    "import matplotlib.pyplot as plt\n",
    "import matplotlib.cm as cm\n",
    "import scipy.signal as signal"
   ]
  },
  {
   "cell_type": "code",
   "execution_count": null,
   "outputs": [],
   "source": [
    "def create_land():\n",
    "\n",
    "    land = np.random.random(size=(1600,1600))\n",
    "    return land\n",
    "\n",
    "land = create_land()"
   ],
   "metadata": {
    "collapsed": false,
    "pycharm": {
     "name": "#%%\n"
    }
   }
  },
  {
   "cell_type": "code",
   "execution_count": null,
   "outputs": [],
   "source": [
    "def smooth_land(l):\n",
    "    sl = signal.savgol_filter(x=l, window_length=151, polyorder=3, axis=0)\n",
    "    sl = signal.savgol_filter(x=sl, window_length=151, polyorder=3, axis=-1)\n",
    "    return smoothland\n",
    "\n",
    "smoothland = smooth_land(land)"
   ],
   "metadata": {
    "collapsed": false,
    "pycharm": {
     "name": "#%%\n"
    }
   }
  },
  {
   "cell_type": "code",
   "execution_count": null,
   "outputs": [],
   "source": [
    "def render_land():\n",
    "    fig = plt.figure()\n",
    "    ax2 = fig.add_subplot(122)\n",
    "    ax2.imshow(land, interpolation='nearest', cmap=cm.Greys_r)\n",
    "    plt.show()\n",
    "\n",
    "render_land()"
   ],
   "metadata": {
    "collapsed": false,
    "pycharm": {
     "name": "#%%\n"
    }
   }
  },
  {
   "cell_type": "code",
   "execution_count": null,
   "outputs": [],
   "source": [
    "def render_smooth_land():\n",
    "    fig = plt.figure()\n",
    "    ax2 = fig.add_subplot(122)\n",
    "    ax2.imshow(smoothland, interpolation='nearest', cmap=cm.Greys_r)\n",
    "    plt.show()\n",
    "\n",
    "render_smooth_land()\n",
    "\n"
   ],
   "metadata": {
    "collapsed": false,
    "pycharm": {
     "name": "#%%\n"
    }
   }
  }
 ],
 "metadata": {
  "kernelspec": {
   "display_name": "Python 3",
   "language": "python",
   "name": "python3"
  },
  "language_info": {
   "codemirror_mode": {
    "name": "ipython",
    "version": 2
   },
   "file_extension": ".py",
   "mimetype": "text/x-python",
   "name": "python",
   "nbconvert_exporter": "python",
   "pygments_lexer": "ipython2",
   "version": "2.7.6"
  }
 },
 "nbformat": 4,
 "nbformat_minor": 0
}