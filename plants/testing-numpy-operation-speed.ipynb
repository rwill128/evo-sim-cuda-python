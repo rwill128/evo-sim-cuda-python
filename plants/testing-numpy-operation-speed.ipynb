{
 "cells": [
  {
   "cell_type": "code",
   "execution_count": 4,
   "metadata": {
    "collapsed": true
   },
   "outputs": [],
   "source": [
    "%reset -f\n",
    "\n",
    "import numpy as np\n",
    "import timeit"
   ]
  },
  {
   "cell_type": "code",
   "execution_count": 6,
   "outputs": [
    {
     "name": "stdout",
     "output_type": "stream",
     "text": [
      "Small arrays:\n",
      "\t Voted answer: 0.0001124469999999178\n",
      "\t Proposed answer: 3.138000000006969e-05\n",
      "Big column arrays:\n",
      "\t Voted answer: 0.0023342580000000625\n",
      "\t Proposed answer: 0.061135558000000007\n",
      "Big row arrays:\n",
      "\t Voted answer: 0.006488860000000045\n",
      "\t Proposed answer: 0.00026515799999998535\n",
      "Big arrays:\n",
      "\t Voted answer: 0.0011454870000000028\n",
      "\t Proposed answer: 0.0025411390000000724\n"
     ]
    }
   ],
   "source": [
    "def voted_answer(A,B):\n",
    "    nrows, ncols = A.shape\n",
    "    dtype={'names':['f{}'.format(i) for i in range(ncols)],\n",
    "           'formats':ncols * [A.dtype]}\n",
    "    C = np.intersect1d(A.view(dtype), B.view(dtype))\n",
    "    return C.view(A.dtype).reshape(-1, ncols)\n",
    "\n",
    "def array_row_intersection(a,b):\n",
    "   tmp=np.prod(np.swapaxes(a[:,:,None],1,2)==b,axis=2)\n",
    "   return a[np.sum(np.cumsum(tmp,axis=0)*tmp==1,axis=1).astype(bool)]\n",
    "\n",
    "a_small=np.random.randint(10, size=(10, 10))\n",
    "b_small=np.zeros_like(a_small)\n",
    "b_small=a_small[np.random.randint(a_small.shape[0],size=[a_small.shape[0]]),:]\n",
    "a_big_row=np.random.randint(10, size=(10, 1000))\n",
    "b_big_row=a_big_row[np.random.randint(a_big_row.shape[0],size=[a_big_row.shape[0]]),:]\n",
    "a_big_col=np.random.randint(10, size=(1000, 10))\n",
    "b_big_col=a_big_col[np.random.randint(a_big_col.shape[0],size=[a_big_col.shape[0]]),:]\n",
    "a_big_all=np.random.randint(10, size=(100,100))\n",
    "b_big_all=a_big_all[np.random.randint(a_big_all.shape[0],size=[a_big_all.shape[0]]),:]\n",
    "\n",
    "\n",
    "\n",
    "print ('Small arrays:')\n",
    "print ('\\t Voted answer:',timeit.timeit(lambda:voted_answer(a_small,b_small),number=100)/100)\n",
    "print ('\\t Proposed answer:',timeit.timeit(lambda:array_row_intersection(a_small,b_small),number=100)/100)\n",
    "print ('Big column arrays:')\n",
    "print ('\\t Voted answer:',timeit.timeit(lambda:voted_answer(a_big_col,b_big_col),number=100)/100)\n",
    "print ('\\t Proposed answer:',timeit.timeit(lambda:array_row_intersection(a_big_col,b_big_col),number=100)/100)\n",
    "print ('Big row arrays:')\n",
    "print ('\\t Voted answer:',timeit.timeit(lambda:voted_answer(a_big_row,b_big_row),number=100)/100)\n",
    "print ('\\t Proposed answer:',timeit.timeit(lambda:array_row_intersection(a_big_row,b_big_row),number=100)/100)\n",
    "print ('Big arrays:')\n",
    "print ('\\t Voted answer:',timeit.timeit(lambda:voted_answer(a_big_all,b_big_all),number=100)/100)\n",
    "print ('\\t Proposed answer:',timeit.timeit(lambda:array_row_intersection(a_big_all,b_big_all),number=100)/100)\n"
   ],
   "metadata": {
    "collapsed": false,
    "pycharm": {
     "name": "#%%\n"
    }
   }
  },
  {
   "cell_type": "code",
   "execution_count": 7,
   "outputs": [
    {
     "data": {
      "text/plain": "array([[3, 1, 2],\n       [7, 4, 3]])"
     },
     "execution_count": 7,
     "metadata": {},
     "output_type": "execute_result"
    }
   ],
   "source": [
    "a = np.array([[3, 1, 2], [5, 8, 9], [7, 4, 3]])\n",
    "b = np.array([[2, 3, 0], [3, 1, 2], [7, 4, 3]])\n",
    "av = a.view([('', a.dtype)] * a.shape[1]).ravel()\n",
    "bv = b.view([('', b.dtype)] * b.shape[1]).ravel()\n",
    "np.intersect1d(av, bv).view(a.dtype).reshape(-1, a.shape[1])"
   ],
   "metadata": {
    "collapsed": false,
    "pycharm": {
     "name": "#%%\n"
    }
   }
  }
 ],
 "metadata": {
  "kernelspec": {
   "display_name": "Python 3",
   "language": "python",
   "name": "python3"
  },
  "language_info": {
   "codemirror_mode": {
    "name": "ipython",
    "version": 2
   },
   "file_extension": ".py",
   "mimetype": "text/x-python",
   "name": "python",
   "nbconvert_exporter": "python",
   "pygments_lexer": "ipython2",
   "version": "2.7.6"
  }
 },
 "nbformat": 4,
 "nbformat_minor": 0
}