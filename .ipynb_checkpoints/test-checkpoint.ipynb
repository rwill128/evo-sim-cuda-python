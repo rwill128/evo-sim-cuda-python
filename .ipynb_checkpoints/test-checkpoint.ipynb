{
 "cells": [
  {
   "cell_type": "code",
   "execution_count": 1,
   "metadata": {},
   "outputs": [
    {
     "data": {
      "text/plain": [
       "4"
      ]
     },
     "execution_count": 1,
     "metadata": {},
     "output_type": "execute_result"
    }
   ],
   "source": [
    "2+2"
   ]
  },
  {
   "cell_type": "markdown",
   "metadata": {},
   "source": [
    "### "
   ]
  },
  {
   "cell_type": "code",
   "execution_count": 2,
   "metadata": {},
   "outputs": [
    {
     "data": {
      "text/plain": [
       "12"
      ]
     },
     "execution_count": 2,
     "metadata": {},
     "output_type": "execute_result"
    }
   ],
   "source": [
    "_ * 3"
   ]
  },
  {
   "cell_type": "code",
   "execution_count": 3,
   "metadata": {},
   "outputs": [
    {
     "name": "stdout",
     "output_type": "stream",
     "text": [
      " Volume in drive C is Windows\n",
      " Volume Serial Number is E288-DA6D\n",
      "\n",
      " Directory of C:\\Users\\Rick\\PycharmProjects\\pythonProject1\n",
      "\n",
      "10/12/2020  05:43 PM    <DIR>          .\n",
      "10/12/2020  05:43 PM    <DIR>          ..\n",
      "10/12/2020  05:42 PM    <DIR>          .idea\n",
      "10/12/2020  05:43 PM    <DIR>          .ipynb_checkpoints\n",
      "10/12/2020  05:26 PM                 0 main.py\n",
      "10/12/2020  05:43 PM               624 test.ipynb\n",
      "               2 File(s)            624 bytes\n",
      "               4 Dir(s)  467,022,499,840 bytes free\n"
     ]
    }
   ],
   "source": [
    "!dir"
   ]
  },
  {
   "cell_type": "code",
   "execution_count": null,
   "metadata": {},
   "outputs": [],
   "source": []
  }
 ],
 "metadata": {
  "kernelspec": {
   "display_name": "Python 3",
   "language": "python",
   "name": "python3"
  },
  "language_info": {
   "codemirror_mode": {
    "name": "ipython",
    "version": 3
   },
   "file_extension": ".py",
   "mimetype": "text/x-python",
   "name": "python",
   "nbconvert_exporter": "python",
   "pygments_lexer": "ipython3",
   "version": "3.8.5"
  },
  "pycharm": {
   "stem_cell": {
    "cell_type": "raw",
    "metadata": {
     "collapsed": false
    },
    "source": [
     "2 + 2"
    ]
   }
  }
 },
 "nbformat": 4,
 "nbformat_minor": 1
}
